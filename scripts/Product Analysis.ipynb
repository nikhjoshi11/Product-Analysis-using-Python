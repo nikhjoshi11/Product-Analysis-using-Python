{
  "cells": [
    {
      "cell_type": "markdown",
      "metadata": {
        "id": "IL1eARb9h0wh"
      },
      "source": [
        "# Product and Customer Analytics"
      ]
    },
    {
      "cell_type": "code",
      "execution_count": 1,
      "metadata": {
        "id": "puR4jsbjh0wm"
      },
      "outputs": [],
      "source": [
        "import matplotlib.pyplot as plt\n",
        "import pandas as pd\n",
        "import datetime as dt\n",
        "%matplotlib inline\n",
        "\n"
      ]
    },
    {
      "cell_type": "code",
      "execution_count": 2,
      "metadata": {
        "id": "Jvx1mwdzh0wn"
      },
      "outputs": [],
      "source": [
        "# import the dataset from UCI machine learning laboratory site. It is an excel file\n",
        "df = pd.read_excel(\"/Users/nikhiljoshi/Capstone Project/data/Online Retail.xlsx\", sheet_name='Online Retail')"
      ]
    },
    {
      "cell_type": "code",
      "execution_count": 3,
      "metadata": {
        "id": "-4VMGkNZh0wo",
        "outputId": "43a6bf14-c975-4746-b7b7-a1723f0e7afe",
        "tags": []
      },
      "outputs": [
        {
          "data": {
            "text/plain": [
              "(541909, 8)"
            ]
          },
          "execution_count": 3,
          "metadata": {},
          "output_type": "execute_result"
        }
      ],
      "source": [
        "df.shape"
      ]
    },
    {
      "cell_type": "code",
      "execution_count": 4,
      "metadata": {
        "id": "husfvfzah0wp",
        "outputId": "227f9878-6e45-4f5b-ab92-6d789c80b18c"
      },
      "outputs": [
        {
          "data": {
            "text/html": [
              "<div>\n",
              "<style scoped>\n",
              "    .dataframe tbody tr th:only-of-type {\n",
              "        vertical-align: middle;\n",
              "    }\n",
              "\n",
              "    .dataframe tbody tr th {\n",
              "        vertical-align: top;\n",
              "    }\n",
              "\n",
              "    .dataframe thead th {\n",
              "        text-align: right;\n",
              "    }\n",
              "</style>\n",
              "<table border=\"1\" class=\"dataframe\">\n",
              "  <thead>\n",
              "    <tr style=\"text-align: right;\">\n",
              "      <th></th>\n",
              "      <th>Quantity</th>\n",
              "      <th>UnitPrice</th>\n",
              "      <th>CustomerID</th>\n",
              "    </tr>\n",
              "  </thead>\n",
              "  <tbody>\n",
              "    <tr>\n",
              "      <th>count</th>\n",
              "      <td>541909.000000</td>\n",
              "      <td>541909.000000</td>\n",
              "      <td>406829.000000</td>\n",
              "    </tr>\n",
              "    <tr>\n",
              "      <th>mean</th>\n",
              "      <td>9.552250</td>\n",
              "      <td>4.611114</td>\n",
              "      <td>15287.690570</td>\n",
              "    </tr>\n",
              "    <tr>\n",
              "      <th>std</th>\n",
              "      <td>218.081158</td>\n",
              "      <td>96.759853</td>\n",
              "      <td>1713.600303</td>\n",
              "    </tr>\n",
              "    <tr>\n",
              "      <th>min</th>\n",
              "      <td>-80995.000000</td>\n",
              "      <td>-11062.060000</td>\n",
              "      <td>12346.000000</td>\n",
              "    </tr>\n",
              "    <tr>\n",
              "      <th>25%</th>\n",
              "      <td>1.000000</td>\n",
              "      <td>1.250000</td>\n",
              "      <td>13953.000000</td>\n",
              "    </tr>\n",
              "    <tr>\n",
              "      <th>50%</th>\n",
              "      <td>3.000000</td>\n",
              "      <td>2.080000</td>\n",
              "      <td>15152.000000</td>\n",
              "    </tr>\n",
              "    <tr>\n",
              "      <th>75%</th>\n",
              "      <td>10.000000</td>\n",
              "      <td>4.130000</td>\n",
              "      <td>16791.000000</td>\n",
              "    </tr>\n",
              "    <tr>\n",
              "      <th>max</th>\n",
              "      <td>80995.000000</td>\n",
              "      <td>38970.000000</td>\n",
              "      <td>18287.000000</td>\n",
              "    </tr>\n",
              "  </tbody>\n",
              "</table>\n",
              "</div>"
            ],
            "text/plain": [
              "            Quantity      UnitPrice     CustomerID\n",
              "count  541909.000000  541909.000000  406829.000000\n",
              "mean        9.552250       4.611114   15287.690570\n",
              "std       218.081158      96.759853    1713.600303\n",
              "min    -80995.000000  -11062.060000   12346.000000\n",
              "25%         1.000000       1.250000   13953.000000\n",
              "50%         3.000000       2.080000   15152.000000\n",
              "75%        10.000000       4.130000   16791.000000\n",
              "max     80995.000000   38970.000000   18287.000000"
            ]
          },
          "execution_count": 4,
          "metadata": {},
          "output_type": "execute_result"
        }
      ],
      "source": [
        "df.describe()"
      ]
    },
    {
      "cell_type": "code",
      "execution_count": 5,
      "metadata": {
        "id": "CkpoKIIqh0wq",
        "outputId": "db1200a1-444b-4c0a-c5a2-3831badae64a"
      },
      "outputs": [
        {
          "data": {
            "text/html": [
              "<div>\n",
              "<style scoped>\n",
              "    .dataframe tbody tr th:only-of-type {\n",
              "        vertical-align: middle;\n",
              "    }\n",
              "\n",
              "    .dataframe tbody tr th {\n",
              "        vertical-align: top;\n",
              "    }\n",
              "\n",
              "    .dataframe thead th {\n",
              "        text-align: right;\n",
              "    }\n",
              "</style>\n",
              "<table border=\"1\" class=\"dataframe\">\n",
              "  <thead>\n",
              "    <tr style=\"text-align: right;\">\n",
              "      <th></th>\n",
              "      <th>InvoiceNo</th>\n",
              "      <th>StockCode</th>\n",
              "      <th>Description</th>\n",
              "      <th>Quantity</th>\n",
              "      <th>InvoiceDate</th>\n",
              "      <th>UnitPrice</th>\n",
              "      <th>CustomerID</th>\n",
              "      <th>Country</th>\n",
              "    </tr>\n",
              "  </thead>\n",
              "  <tbody>\n",
              "    <tr>\n",
              "      <th>0</th>\n",
              "      <td>536365</td>\n",
              "      <td>85123A</td>\n",
              "      <td>WHITE HANGING HEART T-LIGHT HOLDER</td>\n",
              "      <td>6</td>\n",
              "      <td>2010-12-01 08:26:00</td>\n",
              "      <td>2.55</td>\n",
              "      <td>17850.0</td>\n",
              "      <td>United Kingdom</td>\n",
              "    </tr>\n",
              "    <tr>\n",
              "      <th>1</th>\n",
              "      <td>536365</td>\n",
              "      <td>71053</td>\n",
              "      <td>WHITE METAL LANTERN</td>\n",
              "      <td>6</td>\n",
              "      <td>2010-12-01 08:26:00</td>\n",
              "      <td>3.39</td>\n",
              "      <td>17850.0</td>\n",
              "      <td>United Kingdom</td>\n",
              "    </tr>\n",
              "    <tr>\n",
              "      <th>2</th>\n",
              "      <td>536365</td>\n",
              "      <td>84406B</td>\n",
              "      <td>CREAM CUPID HEARTS COAT HANGER</td>\n",
              "      <td>8</td>\n",
              "      <td>2010-12-01 08:26:00</td>\n",
              "      <td>2.75</td>\n",
              "      <td>17850.0</td>\n",
              "      <td>United Kingdom</td>\n",
              "    </tr>\n",
              "    <tr>\n",
              "      <th>3</th>\n",
              "      <td>536365</td>\n",
              "      <td>84029G</td>\n",
              "      <td>KNITTED UNION FLAG HOT WATER BOTTLE</td>\n",
              "      <td>6</td>\n",
              "      <td>2010-12-01 08:26:00</td>\n",
              "      <td>3.39</td>\n",
              "      <td>17850.0</td>\n",
              "      <td>United Kingdom</td>\n",
              "    </tr>\n",
              "    <tr>\n",
              "      <th>4</th>\n",
              "      <td>536365</td>\n",
              "      <td>84029E</td>\n",
              "      <td>RED WOOLLY HOTTIE WHITE HEART.</td>\n",
              "      <td>6</td>\n",
              "      <td>2010-12-01 08:26:00</td>\n",
              "      <td>3.39</td>\n",
              "      <td>17850.0</td>\n",
              "      <td>United Kingdom</td>\n",
              "    </tr>\n",
              "  </tbody>\n",
              "</table>\n",
              "</div>"
            ],
            "text/plain": [
              "  InvoiceNo StockCode                          Description  Quantity  \\\n",
              "0    536365    85123A   WHITE HANGING HEART T-LIGHT HOLDER         6   \n",
              "1    536365     71053                  WHITE METAL LANTERN         6   \n",
              "2    536365    84406B       CREAM CUPID HEARTS COAT HANGER         8   \n",
              "3    536365    84029G  KNITTED UNION FLAG HOT WATER BOTTLE         6   \n",
              "4    536365    84029E       RED WOOLLY HOTTIE WHITE HEART.         6   \n",
              "\n",
              "          InvoiceDate  UnitPrice  CustomerID         Country  \n",
              "0 2010-12-01 08:26:00       2.55     17850.0  United Kingdom  \n",
              "1 2010-12-01 08:26:00       3.39     17850.0  United Kingdom  \n",
              "2 2010-12-01 08:26:00       2.75     17850.0  United Kingdom  \n",
              "3 2010-12-01 08:26:00       3.39     17850.0  United Kingdom  \n",
              "4 2010-12-01 08:26:00       3.39     17850.0  United Kingdom  "
            ]
          },
          "execution_count": 5,
          "metadata": {},
          "output_type": "execute_result"
        }
      ],
      "source": [
        "# Use the head function\n",
        "df.head()"
      ]
    },
    {
      "cell_type": "markdown",
      "metadata": {
        "id": "gvTQ5T9jh0wq"
      },
      "source": [
        "# Distribution of the Quantity Column"
      ]
    },
    {
      "cell_type": "code",
      "execution_count": 6,
      "metadata": {
        "id": "EDWj3Y9Uh0wr",
        "outputId": "f7842da7-91cf-442e-d6d4-390818433adc"
      },
      "outputs": [
        {
          "data": {
            "image/png": "[encoded data removed]",
            "text/plain": [
              "<Figure size 720x504 with 1 Axes>"
            ]
          },
          "metadata": {
            "needs_background": "light"
          },
          "output_type": "display_data"
        }
      ],
      "source": [
        "ax = df['Quantity'].plot.box(\n",
        "    showfliers=False,\n",
        "    grid=True,\n",
        "    figsize=(10, 7)\n",
        ")\n",
        "\n",
        "ax.set_ylabel('Order Quantity')\n",
        "ax.set_title('Quantity Distribution')\n",
        "\n",
        "plt.suptitle(\"\")\n",
        "plt.show()"
      ]
    },
    {
      "cell_type": "code",
      "execution_count": 7,
      "metadata": {
        "id": "5ZAJIg0hh0ws"
      },
      "outputs": [],
      "source": [
        "# Filter out the negative quantity orders\n",
        "df = df.loc[df['Quantity'] > 0]"
      ]
    },
    {
      "cell_type": "code",
      "execution_count": 8,
      "metadata": {
        "id": "vBO3Rq8Bh0ws",
        "outputId": "dc318021-8e5e-475a-ff99-a761d75c02d6"
      },
      "outputs": [
        {
          "data": {
            "text/plain": [
              "(531285, 8)"
            ]
          },
          "execution_count": 8,
          "metadata": {},
          "output_type": "execute_result"
        }
      ],
      "source": [
        "df.shape"
      ]
    },
    {
      "cell_type": "code",
      "execution_count": 9,
      "metadata": {
        "id": "ATtm_afhh0wt",
        "outputId": "4083550d-c746-4942-9c62-b2071e5a80b1"
      },
      "outputs": [
        {
          "data": {
            "image/png": "[encoded data removed]",
            "text/plain": [
              "<Figure size 720x504 with 1 Axes>"
            ]
          },
          "metadata": {
            "needs_background": "light"
          },
          "output_type": "display_data"
        }
      ],
      "source": [
        "ax = df['Quantity'].plot.box(\n",
        "    showfliers=False,\n",
        "    grid=True,\n",
        "    figsize=(10, 7)\n",
        ")\n",
        "\n",
        "ax.set_ylabel('Order Quantity')\n",
        "ax.set_title('Quantity Distribution')\n",
        "\n",
        "plt.suptitle(\"\")\n",
        "plt.show()"
      ]
    },
    {
      "cell_type": "markdown",
      "metadata": {
        "id": "vU8sxRlbh0wt"
      },
      "source": [
        "# Time Series Trends\n",
        "- Number of orders\n",
        "- Revenue"
      ]
    },
    {
      "cell_type": "code",
      "execution_count": 10,
      "metadata": {
        "id": "DI5idZyvh0wu"
      },
      "outputs": [],
      "source": [
        "m_orders_df = df.set_index('InvoiceDate')['InvoiceNo'].resample('M').nunique()"
      ]
    },
    {
      "cell_type": "code",
      "execution_count": 11,
      "metadata": {
        "id": "GmHnizcZh0wu",
        "outputId": "2853ccdb-3a20-4a96-a853-70aa66790ba3"
      },
      "outputs": [
        {
          "data": {
            "text/plain": [
              "InvoiceDate\n",
              "2010-12-31    1629\n",
              "2011-01-31    1120\n",
              "2011-02-28    1126\n",
              "2011-03-31    1531\n",
              "2011-04-30    1318\n",
              "2011-05-31    1731\n",
              "2011-06-30    1576\n",
              "2011-07-31    1540\n",
              "2011-08-31    1409\n",
              "2011-09-30    1896\n",
              "2011-10-31    2129\n",
              "2011-11-30    2884\n",
              "2011-12-31     839\n",
              "Freq: M, Name: InvoiceNo, dtype: int64"
            ]
          },
          "execution_count": 11,
          "metadata": {},
          "output_type": "execute_result"
        }
      ],
      "source": [
        "m_orders_df"
      ]
    },
    {
      "cell_type": "code",
      "execution_count": 12,
      "metadata": {
        "id": "xvH4J8vrh0wu",
        "outputId": "c42d6475-ba4a-4eb5-c171-d36e3944f00e"
      },
      "outputs": [
        {
          "data": {
            "image/png": "[encoded data removed]",
            "text/plain": [
              "<Figure size 720x504 with 1 Axes>"
            ]
          },
          "metadata": {
            "needs_background": "light"
          },
          "output_type": "display_data"
        }
      ],
      "source": [
        "# Create a Line Chart for the data \n",
        "ax = pd.DataFrame(m_orders_df.values).plot(\n",
        "    grid=True,\n",
        "    figsize=(10,7),\n",
        "    legend=False\n",
        ")\n",
        "\n",
        "ax.set_xlabel('date')\n",
        "ax.set_ylabel('number of orders/invoices')\n",
        "ax.set_title('Total Number of Orders Over Time')\n",
        "\n",
        "# use x.strftime('%m.%Y'), where x is the Pythondate object, %m is the placeholder for\n",
        "# the month value, and %Y is the placeholder for the year value. The strftime function\n",
        "# of the Pythondate object formats the date into the given format.\n",
        "\n",
        "plt.xticks(\n",
        "    range(len(m_orders_df.index)), \n",
        "    [x.strftime('%m.%Y') for x in m_orders_df.index], \n",
        "    rotation=45\n",
        ")\n",
        "\n",
        "plt.show()"
      ]
    },
    {
      "cell_type": "code",
      "execution_count": 13,
      "metadata": {
        "id": "SlOhAIzDh0wv"
      },
      "outputs": [],
      "source": [
        "\n",
        "invoice_dates = df.loc[\n",
        "    df['InvoiceDate'] >= '2011-12-01',\n",
        "    'InvoiceDate'\n",
        "]\n",
        "\n"
      ]
    },
    {
      "cell_type": "code",
      "execution_count": 14,
      "metadata": {
        "id": "VuIMinHvh0wv",
        "outputId": "32580f27-0348-46e7-c154-d1bafb1fd3d9"
      },
      "outputs": [
        {
          "name": "stdout",
          "output_type": "stream",
          "text": [
            "Min date: 2011-12-01 08:33:00\n",
            "Max date: 2011-12-09 12:50:00\n"
          ]
        }
      ],
      "source": [
        "print('Min date: %s\\nMax date: %s' % (invoice_dates.min(), invoice_dates.max()))"
      ]
    },
    {
      "cell_type": "markdown",
      "metadata": {
        "id": "8ZTXfBaeh0ww"
      },
      "source": [
        "Analysing the total orders placed in the past one year we can see that the number of orders placed has increased steadily since Aug, but the other months are comparitively low. This could be because of seasonality and we will need more than one year data to understand this. Also we see that the data for december is not complete so we will need to remove this from the analysis"
      ]
    },
    {
      "cell_type": "code",
      "execution_count": 15,
      "metadata": {
        "id": "vTNvw5gIh0ww"
      },
      "outputs": [],
      "source": [
        "# Remove the December 2011 data\n",
        "df = df.loc[df['InvoiceDate'] < '2011-12-01']\n",
        "\n",
        "# Recalculate the monthly distribution\n",
        "m_orders_df = df.set_index('InvoiceDate')['InvoiceNo'].resample('M').nunique()"
      ]
    },
    {
      "cell_type": "code",
      "execution_count": 16,
      "metadata": {
        "id": "y9wg0cg6h0wx",
        "outputId": "9634633f-e6dc-40a2-f431-1006ffa27b71"
      },
      "outputs": [
        {
          "data": {
            "image/png": "[encoded data removed]",
            "text/plain": [
              "<Figure size 720x504 with 1 Axes>"
            ]
          },
          "metadata": {
            "needs_background": "light"
          },
          "output_type": "display_data"
        }
      ],
      "source": [
        "# Create the line chart again\n",
        "ax = pd.DataFrame(m_orders_df.values).plot(\n",
        "    grid=True,\n",
        "    figsize=(10,7),\n",
        "    legend=False\n",
        ")\n",
        "\n",
        "ax.set_xlabel('date')\n",
        "ax.set_ylabel('number of orders/invoices')\n",
        "ax.set_title('Total Number of Orders Over Time')\n",
        "\n",
        "plt.xticks(\n",
        "    range(len(m_orders_df.index)), \n",
        "    [x.strftime('%m.%Y') for x in m_orders_df.index], \n",
        "    rotation=45\n",
        ")\n",
        "plt.show()\n"
      ]
    },
    {
      "cell_type": "code",
      "execution_count": 17,
      "metadata": {
        "id": "pzdAuVPZh0wx"
      },
      "outputs": [],
      "source": [
        "# Calculate sales\n",
        "df['Sales'] = df['Quantity'] * df['UnitPrice']\n",
        "# Look at monthly revenue data by using sum as an aggregate function\n",
        "m_revenue_df = df.set_index('InvoiceDate')['Sales'].resample('M').sum()"
      ]
    },
    {
      "cell_type": "code",
      "execution_count": 18,
      "metadata": {
        "id": "ryLo8EODh0wx",
        "outputId": "245abe3f-26e7-466a-d46e-d455b3a46864"
      },
      "outputs": [
        {
          "data": {
            "text/plain": [
              "InvoiceDate\n",
              "2010-12-31     823746.140\n",
              "2011-01-31     691364.560\n",
              "2011-02-28     523631.890\n",
              "2011-03-31     717639.360\n",
              "2011-04-30     537808.621\n",
              "2011-05-31     770536.020\n",
              "2011-06-30     761739.900\n",
              "2011-07-31     719221.191\n",
              "2011-08-31     737014.260\n",
              "2011-09-30    1058590.172\n",
              "2011-10-31    1154979.300\n",
              "2011-11-30    1509496.330\n",
              "Freq: M, Name: Sales, dtype: float64"
            ]
          },
          "execution_count": 18,
          "metadata": {},
          "output_type": "execute_result"
        }
      ],
      "source": [
        "m_revenue_df"
      ]
    },
    {
      "cell_type": "code",
      "execution_count": 19,
      "metadata": {
        "id": "xxo-QPvAh0wy",
        "outputId": "18d32f2f-b8c4-4acd-92c1-f1f1d9347c24"
      },
      "outputs": [
        {
          "data": {
            "image/png": "[encoded data removed]",
            "text/plain": [
              "<Figure size 720x504 with 1 Axes>"
            ]
          },
          "metadata": {
            "needs_background": "light"
          },
          "output_type": "display_data"
        }
      ],
      "source": [
        "# Creating a Line Plot for revenue\n",
        "\n",
        "# Line Plot\n",
        "ax = pd.DataFrame(m_revenue_df.values).plot(\n",
        "    grid=True,\n",
        "    figsize=(10,7),\n",
        "    legend=False\n",
        ")\n",
        "\n",
        "ax.set_xlabel('date')\n",
        "ax.set_ylabel('sales')\n",
        "ax.set_title('Total Revenue Over Time')\n",
        "\n",
        "ax.set_ylim([0, max(m_revenue_df.values)+100000])\n",
        "\n",
        "plt.xticks(\n",
        "    range(len(m_revenue_df.index)), \n",
        "    [x.strftime('%m.%Y') for x in m_revenue_df.index], \n",
        "    rotation=45\n",
        ")\n",
        "\n",
        "plt.show()\n"
      ]
    },
    {
      "cell_type": "markdown",
      "metadata": {
        "id": "9g0MdbCjh0wy"
      },
      "source": [
        "The revenue closely follows the total number of orders placed. Bring us the understanding that the more orders placed the better revenue we see. Most of the year the revenue is around 800K"
      ]
    },
    {
      "cell_type": "markdown",
      "metadata": {
        "id": "B6gqy-CXh0wy"
      },
      "source": [
        "# Repeat Customers"
      ]
    },
    {
      "cell_type": "markdown",
      "metadata": {
        "id": "E75PnXp3h0wz"
      },
      "source": [
        "Each line in the dataset corresponds to a particular item. A unique order can be identified using the Invoice number, meaning the invoice number is repeated based on the number of unique items ordered"
      ]
    },
    {
      "cell_type": "markdown",
      "metadata": {
        "id": "uVLBpNvvh0wz"
      },
      "source": [
        "### Calculate the repeat customers"
      ]
    },
    {
      "cell_type": "code",
      "execution_count": 21,
      "metadata": {
        "id": "gIYlc2cbh0wz"
      },
      "outputs": [],
      "source": [
        "# Aggregate the raw data for each Invoice No.\n",
        "invoice_df = df.groupby(\n",
        "    by=['InvoiceNo', 'InvoiceDate']\n",
        ").agg({\n",
        "    'Sales': sum,\n",
        "    'CustomerID': max,\n",
        "    'Country': max,\n",
        "}).reset_index()"
      ]
    },
    {
      "cell_type": "code",
      "execution_count": 22,
      "metadata": {
        "id": "UEv4VS7Rh0wz",
        "outputId": "3a1bb693-1cfa-430f-c9ca-131ffcc06e1c"
      },
      "outputs": [
        {
          "data": {
            "text/html": [
              "<div>\n",
              "<style scoped>\n",
              "    .dataframe tbody tr th:only-of-type {\n",
              "        vertical-align: middle;\n",
              "    }\n",
              "\n",
              "    .dataframe tbody tr th {\n",
              "        vertical-align: top;\n",
              "    }\n",
              "\n",
              "    .dataframe thead th {\n",
              "        text-align: right;\n",
              "    }\n",
              "</style>\n",
              "<table border=\"1\" class=\"dataframe\">\n",
              "  <thead>\n",
              "    <tr style=\"text-align: right;\">\n",
              "      <th></th>\n",
              "      <th>InvoiceNo</th>\n",
              "      <th>InvoiceDate</th>\n",
              "      <th>Sales</th>\n",
              "      <th>CustomerID</th>\n",
              "      <th>Country</th>\n",
              "    </tr>\n",
              "  </thead>\n",
              "  <tbody>\n",
              "    <tr>\n",
              "      <th>0</th>\n",
              "      <td>536365</td>\n",
              "      <td>2010-12-01 08:26:00</td>\n",
              "      <td>139.12</td>\n",
              "      <td>17850.0</td>\n",
              "      <td>United Kingdom</td>\n",
              "    </tr>\n",
              "    <tr>\n",
              "      <th>1</th>\n",
              "      <td>536366</td>\n",
              "      <td>2010-12-01 08:28:00</td>\n",
              "      <td>22.20</td>\n",
              "      <td>17850.0</td>\n",
              "      <td>United Kingdom</td>\n",
              "    </tr>\n",
              "    <tr>\n",
              "      <th>2</th>\n",
              "      <td>536367</td>\n",
              "      <td>2010-12-01 08:34:00</td>\n",
              "      <td>278.73</td>\n",
              "      <td>13047.0</td>\n",
              "      <td>United Kingdom</td>\n",
              "    </tr>\n",
              "    <tr>\n",
              "      <th>3</th>\n",
              "      <td>536368</td>\n",
              "      <td>2010-12-01 08:34:00</td>\n",
              "      <td>70.05</td>\n",
              "      <td>13047.0</td>\n",
              "      <td>United Kingdom</td>\n",
              "    </tr>\n",
              "    <tr>\n",
              "      <th>4</th>\n",
              "      <td>536369</td>\n",
              "      <td>2010-12-01 08:35:00</td>\n",
              "      <td>17.85</td>\n",
              "      <td>13047.0</td>\n",
              "      <td>United Kingdom</td>\n",
              "    </tr>\n",
              "  </tbody>\n",
              "</table>\n",
              "</div>"
            ],
            "text/plain": [
              "  InvoiceNo         InvoiceDate   Sales  CustomerID         Country\n",
              "0    536365 2010-12-01 08:26:00  139.12     17850.0  United Kingdom\n",
              "1    536366 2010-12-01 08:28:00   22.20     17850.0  United Kingdom\n",
              "2    536367 2010-12-01 08:34:00  278.73     13047.0  United Kingdom\n",
              "3    536368 2010-12-01 08:34:00   70.05     13047.0  United Kingdom\n",
              "4    536369 2010-12-01 08:35:00   17.85     13047.0  United Kingdom"
            ]
          },
          "execution_count": 22,
          "metadata": {},
          "output_type": "execute_result"
        }
      ],
      "source": [
        "invoice_df.head()"
      ]
    },
    {
      "cell_type": "code",
      "execution_count": 23,
      "metadata": {
        "id": "72fyXjbkh0w0"
      },
      "outputs": [],
      "source": [
        "# Aggregate by month\n",
        "#Group by Month and CustomerID. \n",
        "# Filter selects customers who have more than one record in the group\n",
        "# Basically customers with more than one order in a month\n",
        "\n",
        "m_repeat_customers_df = invoice_df.set_index('InvoiceDate').groupby([\n",
        "    pd.Grouper(freq='M'), 'CustomerID'\n",
        "]).filter(lambda x: len(x) > 1).resample('M').nunique()['CustomerID']"
      ]
    },
    {
      "cell_type": "code",
      "execution_count": 24,
      "metadata": {
        "id": "rtAho6-rh0w0",
        "outputId": "5147f2b7-46a1-49bf-ac0f-557843262ceb"
      },
      "outputs": [
        {
          "data": {
            "text/plain": [
              "InvoiceDate\n",
              "2010-12-31    263\n",
              "2011-01-31    153\n",
              "2011-02-28    153\n",
              "2011-03-31    203\n",
              "2011-04-30    170\n",
              "2011-05-31    281\n",
              "2011-06-30    220\n",
              "2011-07-31    227\n",
              "2011-08-31    198\n",
              "2011-09-30    272\n",
              "2011-10-31    324\n",
              "2011-11-30    541\n",
              "Freq: M, Name: CustomerID, dtype: int64"
            ]
          },
          "execution_count": 24,
          "metadata": {},
          "output_type": "execute_result"
        }
      ],
      "source": [
        "m_repeat_customers_df"
      ]
    },
    {
      "cell_type": "code",
      "execution_count": 25,
      "metadata": {
        "id": "IPlKn6bKh0w0"
      },
      "outputs": [],
      "source": [
        "# Calculate the unique customers\n",
        "m_unique_customers_df = df.set_index('InvoiceDate')['CustomerID'].resample('M').nunique()"
      ]
    },
    {
      "cell_type": "code",
      "execution_count": 26,
      "metadata": {
        "id": "oMYZhf69h0w0",
        "outputId": "aa5d0708-afb4-4d6c-e400-518ce2073845"
      },
      "outputs": [
        {
          "data": {
            "text/plain": [
              "InvoiceDate\n",
              "2010-12-31     885\n",
              "2011-01-31     741\n",
              "2011-02-28     758\n",
              "2011-03-31     974\n",
              "2011-04-30     856\n",
              "2011-05-31    1056\n",
              "2011-06-30     991\n",
              "2011-07-31     949\n",
              "2011-08-31     935\n",
              "2011-09-30    1266\n",
              "2011-10-31    1364\n",
              "2011-11-30    1665\n",
              "Freq: M, Name: CustomerID, dtype: int64"
            ]
          },
          "execution_count": 26,
          "metadata": {},
          "output_type": "execute_result"
        }
      ],
      "source": [
        "m_unique_customers_df"
      ]
    },
    {
      "cell_type": "code",
      "execution_count": 27,
      "metadata": {
        "id": "aDwrBoLVh0w1",
        "outputId": "47a2abf4-6998-4a97-f46d-be1d976b1c7c"
      },
      "outputs": [
        {
          "data": {
            "text/plain": [
              "InvoiceDate\n",
              "2010-12-31    29.717514\n",
              "2011-01-31    20.647773\n",
              "2011-02-28    20.184697\n",
              "2011-03-31    20.841889\n",
              "2011-04-30    19.859813\n",
              "2011-05-31    26.609848\n",
              "2011-06-30    22.199798\n",
              "2011-07-31    23.919916\n",
              "2011-08-31    21.176471\n",
              "2011-09-30    21.484992\n",
              "2011-10-31    23.753666\n",
              "2011-11-30    32.492492\n",
              "Freq: M, Name: CustomerID, dtype: float64"
            ]
          },
          "execution_count": 27,
          "metadata": {},
          "output_type": "execute_result"
        }
      ],
      "source": [
        "# Compare the repeat and unique customers by month and calculate percentage by month\n",
        "m_repeat_percentage = m_repeat_customers_df/m_unique_customers_df*100.0\n",
        "m_repeat_percentage"
      ]
    },
    {
      "cell_type": "code",
      "execution_count": 28,
      "metadata": {
        "id": "AGAvLQP1h0w1",
        "outputId": "bf0625c1-6812-46b7-9ec7-432f97b4b8d9"
      },
      "outputs": [
        {
          "data": {
            "image/png": "[encoded data removed]",
            "text/plain": [
              "<Figure size 720x504 with 2 Axes>"
            ]
          },
          "metadata": {
            "needs_background": "light"
          },
          "output_type": "display_data"
        }
      ],
      "source": [
        "# Visualize thsese two in a dual axis chart\n",
        "\n",
        "plot1 = pd.DataFrame(m_repeat_customers_df.values).plot(\n",
        "    figsize=(10,7))\n",
        "\n",
        "pd.DataFrame(m_unique_customers_df.values).plot(\n",
        "    ax=plot1,\n",
        "    grid=True\n",
        ")\n",
        "\n",
        "plot2 = pd.DataFrame(m_repeat_percentage.values).plot.bar(\n",
        "    ax=plot1,\n",
        "    grid=True,\n",
        "    secondary_y=True,# for dual axis with different scale\n",
        "    color='green',\n",
        "    alpha=0.2\n",
        ")\n",
        "\n",
        "plot1.set_xlabel('date')\n",
        "plot1.set_ylabel('number of customers')\n",
        "plot1.set_title('Number of All vs. Repeat Customers Over Time')\n",
        "\n",
        "plot2.set_ylabel('percentage (%)')\n",
        "\n",
        "plot1.legend(['Repeat Customers', 'All Customers'])\n",
        "plot2.legend(['Percentage of Repeat'], loc='upper right')\n",
        "\n",
        "plot1.set_ylim([0, m_unique_customers_df.values.max()+100])\n",
        "plot2.set_ylim([0, 100])\n",
        "\n",
        "plt.xticks(\n",
        "    range(len(m_repeat_customers_df.index)), \n",
        "    [x.strftime('%m.%Y') for x in m_repeat_customers_df.index], \n",
        "    rotation=45\n",
        ")\n",
        "plt.show()"
      ]
    },
    {
      "cell_type": "markdown",
      "metadata": {
        "id": "am_jBjXSh0w1"
      },
      "source": [
        "From the chart we can see a definite correlation between the total customers and the repeat customers, meaning attracting more customer would also help acquire a set of customers who frequent the shop.\n",
        "\n",
        "The same cannot be said about the percentage of repeat customers as it stays consistent, fluctuating between 20 and 35%\n"
      ]
    },
    {
      "cell_type": "code",
      "execution_count": 29,
      "metadata": {
        "id": "iVLyCtNlh0w1"
      },
      "outputs": [],
      "source": [
        "# Calculate Monthly revenue of repeat customers\n",
        "\n",
        "m_rev_repeat_customers_df = invoice_df.set_index('InvoiceDate').groupby([\n",
        "    pd.Grouper(freq='M'), 'CustomerID'\n",
        "]).filter(lambda x: len(x) > 1).resample('M').sum()['Sales']\n",
        "\n",
        "# Calculate and show the % of revenue for repeat and all customers by month\n",
        "m_rev_perc_repeat_customers_df = m_rev_repeat_customers_df/m_revenue_df * 100.0\n",
        "\n"
      ]
    },
    {
      "cell_type": "code",
      "execution_count": 30,
      "metadata": {
        "id": "B7rd62z6h0w2",
        "outputId": "0cb58b31-f524-48a9-e32b-784287c5cd11"
      },
      "outputs": [
        {
          "name": "stdout",
          "output_type": "stream",
          "text": [
            "InvoiceDate\n",
            "2010-12-31    43.602098\n",
            "2011-01-31    32.128346\n",
            "2011-02-28    36.519810\n",
            "2011-03-31    37.259729\n",
            "2011-04-30    36.346420\n",
            "2011-05-31    49.082331\n",
            "2011-06-30    49.401017\n",
            "2011-07-31    44.141497\n",
            "2011-08-31    43.029595\n",
            "2011-09-30    47.295296\n",
            "2011-10-31    49.698455\n",
            "2011-11-30    47.285696\n",
            "Freq: M, Name: Sales, dtype: float64\n"
          ]
        }
      ],
      "source": [
        "print(m_rev_perc_repeat_customers_df)"
      ]
    },
    {
      "cell_type": "code",
      "execution_count": 31,
      "metadata": {
        "id": "rumzUzCQh0w2",
        "outputId": "b9d2b3fb-f600-4fde-c52f-4196cc29d6a7"
      },
      "outputs": [
        {
          "data": {
            "image/png": "[encoded data removed]",
            "text/plain": [
              "<Figure size 720x504 with 2 Axes>"
            ]
          },
          "metadata": {
            "needs_background": "light"
          },
          "output_type": "display_data"
        }
      ],
      "source": [
        "# Plot the  chart for Revenue and % (Dual axis chart)\n",
        "\n",
        "plot1 = pd.DataFrame(m_revenue_df.values).plot(\n",
        "    figsize=(10,7))\n",
        "\n",
        "pd.DataFrame(m_rev_repeat_customers_df.values).plot(\n",
        "    ax=plot1,\n",
        "    grid=True\n",
        ")\n",
        "\n",
        "plot2 = pd.DataFrame(m_rev_perc_repeat_customers_df.values).plot.bar(\n",
        "    ax=plot1,\n",
        "    grid=True,\n",
        "    secondary_y=True,# for dual axis with different scale\n",
        "    color='green',\n",
        "    alpha=0.2\n",
        ")\n",
        "plot1.set_xlabel('date')\n",
        "plot1.set_ylabel('Revenue')\n",
        "plot1.set_title('Total Revenue vs. Revenue from Repeat Customers')\n",
        "\n",
        "plot2.set_ylabel('percentage (%)')\n",
        "plot1.legend(['Total Revenue', 'Repeat Customer Revenue'])\n",
        "\n",
        "plot1.set_ylim([0, max(m_revenue_df.values)+100000])\n",
        "\n",
        "plot2.set_ylim([0, max(m_rev_perc_repeat_customers_df.values)+30])\n",
        "plot2.set_ylabel('percentage (%)')\n",
        "plot2.legend(['Repeat Revenue Percentage'])\n",
        "\n",
        "plot2.set_xticklabels([\n",
        "    x.strftime('%m.%Y') for x in m_rev_perc_repeat_customers_df.index\n",
        "])\n",
        "\n",
        "plt.show()\n"
      ]
    },
    {
      "cell_type": "markdown",
      "metadata": {
        "id": "gwTlO_pFh0w2"
      },
      "source": [
        "Looking into the revenue from repeat customers and comparing it with the overall revenue we can see that even though only 20 to 35% of our customers are repeat, they contribute to anywhere between 40 to 50% of our overall revenue. Meaning converting a new customer to a repeat customer is priority."
      ]
    },
    {
      "cell_type": "markdown",
      "metadata": {
        "id": "0Cl3qiFxh0w2"
      },
      "source": [
        "## Trending Items Over Time (How customers enagage with individual products)"
      ]
    },
    {
      "cell_type": "markdown",
      "metadata": {
        "id": "KoalxuN-h0w3"
      },
      "source": [
        "### By Quantity"
      ]
    },
    {
      "cell_type": "code",
      "execution_count": 32,
      "metadata": {
        "id": "eDViG2pih0w3"
      },
      "outputs": [],
      "source": [
        "# Group the datafarme by month with stock code which is really the product ID\n",
        "m_item_df = pd.DataFrame(df.set_index('InvoiceDate').groupby([\n",
        "        pd.Grouper(freq='M'), 'StockCode'\n",
        "    ])['Quantity'].sum()\n",
        "                        )"
      ]
    },
    {
      "cell_type": "code",
      "execution_count": 33,
      "metadata": {
        "id": "RNsAgIzvh0w3",
        "scrolled": true
      },
      "outputs": [],
      "source": [
        "# Lets find out what items were sold the most by quantity on November 30, 2011\n",
        "# Rank items by the last month sales by sorting by quantity\n",
        "last_m_sorted_df = m_item_df.loc['2011-11-30'].sort_values(\n",
        "    by='Quantity', ascending=False\n",
        ").reset_index()\n"
      ]
    },
    {
      "cell_type": "markdown",
      "metadata": {
        "id": "NgVWo33Ah0w3"
      },
      "source": [
        "### By Sales"
      ]
    },
    {
      "cell_type": "code",
      "execution_count": 34,
      "metadata": {
        "id": "Niigw91Ih0w3"
      },
      "outputs": [],
      "source": [
        "# Group the datafarme by month with stock code which is really the product ID and \n",
        "# calculate the sales\n",
        "\n",
        "m_rev_df = pd.DataFrame(df.set_index('InvoiceDate').groupby([\n",
        "        pd.Grouper(freq='M'), 'StockCode'\n",
        "    ])['Sales'].sum()\n",
        "                        )\n",
        "\n",
        "\n",
        "# Lets find out what items were sold the most by sales on November 30, 2011\n",
        "\n",
        "last_m_rev_sorted_df = m_rev_df.loc['2011-11-30'].sort_values(\n",
        "    by='Sales', ascending=False\n",
        ").reset_index()"
      ]
    },
    {
      "cell_type": "code",
      "execution_count": 35,
      "metadata": {
        "id": "IbU02jehh0w3",
        "outputId": "e64aeb32-ea56-4403-edc5-eff1af04a0e2"
      },
      "outputs": [
        {
          "name": "stdout",
          "output_type": "stream",
          "text": [
            "  StockCode  Quantity\n",
            "0     23084     14954\n",
            "1     84826     12551\n",
            "2     22197     12460\n",
            "3     22086      7908\n",
            "4    85099B      5909\n",
            "  StockCode     Sales\n",
            "0       DOT  36905.40\n",
            "1     23084  34556.72\n",
            "2     22086  28985.04\n",
            "3     22197  14195.60\n",
            "4    85123A  14136.70\n"
          ]
        }
      ],
      "source": [
        "# Print both the dataframes\n",
        "print(last_m_sorted_df.head())\n",
        "print(last_m_rev_sorted_df.head())\n"
      ]
    },
    {
      "cell_type": "code",
      "execution_count": 36,
      "metadata": {
        "id": "JkPv59Ikh0w4",
        "outputId": "1ee286eb-1773-456b-fe99-d9a5d9eca298"
      },
      "outputs": [
        {
          "data": {
            "text/html": [
              "<div>\n",
              "<style scoped>\n",
              "    .dataframe tbody tr th:only-of-type {\n",
              "        vertical-align: middle;\n",
              "    }\n",
              "\n",
              "    .dataframe tbody tr th {\n",
              "        vertical-align: top;\n",
              "    }\n",
              "\n",
              "    .dataframe thead th {\n",
              "        text-align: right;\n",
              "    }\n",
              "</style>\n",
              "<table border=\"1\" class=\"dataframe\">\n",
              "  <thead>\n",
              "    <tr style=\"text-align: right;\">\n",
              "      <th></th>\n",
              "      <th></th>\n",
              "      <th>Sales</th>\n",
              "    </tr>\n",
              "    <tr>\n",
              "      <th>InvoiceDate</th>\n",
              "      <th>StockCode</th>\n",
              "      <th></th>\n",
              "    </tr>\n",
              "  </thead>\n",
              "  <tbody>\n",
              "    <tr>\n",
              "      <th rowspan=\"4\" valign=\"top\">2010-12-31</th>\n",
              "      <th>22086</th>\n",
              "      <td>9225.80</td>\n",
              "    </tr>\n",
              "    <tr>\n",
              "      <th>22197</th>\n",
              "      <td>2630.79</td>\n",
              "    </tr>\n",
              "    <tr>\n",
              "      <th>84826</th>\n",
              "      <td>119.10</td>\n",
              "    </tr>\n",
              "    <tr>\n",
              "      <th>85099B</th>\n",
              "      <td>4019.15</td>\n",
              "    </tr>\n",
              "    <tr>\n",
              "      <th rowspan=\"4\" valign=\"top\">2011-01-31</th>\n",
              "      <th>22086</th>\n",
              "      <td>143.32</td>\n",
              "    </tr>\n",
              "    <tr>\n",
              "      <th>22197</th>\n",
              "      <td>1495.48</td>\n",
              "    </tr>\n",
              "    <tr>\n",
              "      <th>84826</th>\n",
              "      <td>100.80</td>\n",
              "    </tr>\n",
              "    <tr>\n",
              "      <th>85099B</th>\n",
              "      <td>5047.65</td>\n",
              "    </tr>\n",
              "    <tr>\n",
              "      <th rowspan=\"4\" valign=\"top\">2011-02-28</th>\n",
              "      <th>22086</th>\n",
              "      <td>24.95</td>\n",
              "    </tr>\n",
              "    <tr>\n",
              "      <th>22197</th>\n",
              "      <td>2127.00</td>\n",
              "    </tr>\n",
              "    <tr>\n",
              "      <th>84826</th>\n",
              "      <td>17.70</td>\n",
              "    </tr>\n",
              "    <tr>\n",
              "      <th>85099B</th>\n",
              "      <td>5617.24</td>\n",
              "    </tr>\n",
              "    <tr>\n",
              "      <th rowspan=\"4\" valign=\"top\">2011-03-31</th>\n",
              "      <th>22086</th>\n",
              "      <td>232.01</td>\n",
              "    </tr>\n",
              "    <tr>\n",
              "      <th>22197</th>\n",
              "      <td>3032.81</td>\n",
              "    </tr>\n",
              "    <tr>\n",
              "      <th>84826</th>\n",
              "      <td>51.00</td>\n",
              "    </tr>\n",
              "    <tr>\n",
              "      <th>85099B</th>\n",
              "      <td>10118.38</td>\n",
              "    </tr>\n",
              "    <tr>\n",
              "      <th rowspan=\"4\" valign=\"top\">2011-04-30</th>\n",
              "      <th>22086</th>\n",
              "      <td>44.03</td>\n",
              "    </tr>\n",
              "    <tr>\n",
              "      <th>22197</th>\n",
              "      <td>1495.57</td>\n",
              "    </tr>\n",
              "    <tr>\n",
              "      <th>84826</th>\n",
              "      <td>0.85</td>\n",
              "    </tr>\n",
              "    <tr>\n",
              "      <th>85099B</th>\n",
              "      <td>4878.08</td>\n",
              "    </tr>\n",
              "    <tr>\n",
              "      <th rowspan=\"4\" valign=\"top\">2011-05-31</th>\n",
              "      <th>22086</th>\n",
              "      <td>65.19</td>\n",
              "    </tr>\n",
              "    <tr>\n",
              "      <th>22197</th>\n",
              "      <td>5151.63</td>\n",
              "    </tr>\n",
              "    <tr>\n",
              "      <th>23084</th>\n",
              "      <td>2279.57</td>\n",
              "    </tr>\n",
              "    <tr>\n",
              "      <th>85099B</th>\n",
              "      <td>7122.73</td>\n",
              "    </tr>\n",
              "    <tr>\n",
              "      <th rowspan=\"5\" valign=\"top\">2011-06-30</th>\n",
              "      <th>22086</th>\n",
              "      <td>910.88</td>\n",
              "    </tr>\n",
              "    <tr>\n",
              "      <th>22197</th>\n",
              "      <td>1706.91</td>\n",
              "    </tr>\n",
              "    <tr>\n",
              "      <th>23084</th>\n",
              "      <td>3326.87</td>\n",
              "    </tr>\n",
              "    <tr>\n",
              "      <th>84826</th>\n",
              "      <td>3.40</td>\n",
              "    </tr>\n",
              "    <tr>\n",
              "      <th>85099B</th>\n",
              "      <td>7247.98</td>\n",
              "    </tr>\n",
              "    <tr>\n",
              "      <th rowspan=\"5\" valign=\"top\">2011-07-31</th>\n",
              "      <th>22086</th>\n",
              "      <td>1077.93</td>\n",
              "    </tr>\n",
              "    <tr>\n",
              "      <th>22197</th>\n",
              "      <td>1540.00</td>\n",
              "    </tr>\n",
              "    <tr>\n",
              "      <th>23084</th>\n",
              "      <td>668.59</td>\n",
              "    </tr>\n",
              "    <tr>\n",
              "      <th>84826</th>\n",
              "      <td>1.70</td>\n",
              "    </tr>\n",
              "    <tr>\n",
              "      <th>85099B</th>\n",
              "      <td>6253.87</td>\n",
              "    </tr>\n",
              "    <tr>\n",
              "      <th rowspan=\"5\" valign=\"top\">2011-08-31</th>\n",
              "      <th>22086</th>\n",
              "      <td>1334.94</td>\n",
              "    </tr>\n",
              "    <tr>\n",
              "      <th>22197</th>\n",
              "      <td>4133.35</td>\n",
              "    </tr>\n",
              "    <tr>\n",
              "      <th>23084</th>\n",
              "      <td>3533.57</td>\n",
              "    </tr>\n",
              "    <tr>\n",
              "      <th>84826</th>\n",
              "      <td>61.20</td>\n",
              "    </tr>\n",
              "    <tr>\n",
              "      <th>85099B</th>\n",
              "      <td>10796.56</td>\n",
              "    </tr>\n",
              "    <tr>\n",
              "      <th rowspan=\"4\" valign=\"top\">2011-09-30</th>\n",
              "      <th>22086</th>\n",
              "      <td>6006.10</td>\n",
              "    </tr>\n",
              "    <tr>\n",
              "      <th>22197</th>\n",
              "      <td>3607.13</td>\n",
              "    </tr>\n",
              "    <tr>\n",
              "      <th>23084</th>\n",
              "      <td>699.78</td>\n",
              "    </tr>\n",
              "    <tr>\n",
              "      <th>85099B</th>\n",
              "      <td>8884.33</td>\n",
              "    </tr>\n",
              "    <tr>\n",
              "      <th rowspan=\"5\" valign=\"top\">2011-10-31</th>\n",
              "      <th>22086</th>\n",
              "      <td>10031.39</td>\n",
              "    </tr>\n",
              "    <tr>\n",
              "      <th>22197</th>\n",
              "      <td>4813.95</td>\n",
              "    </tr>\n",
              "    <tr>\n",
              "      <th>23084</th>\n",
              "      <td>12256.87</td>\n",
              "    </tr>\n",
              "    <tr>\n",
              "      <th>84826</th>\n",
              "      <td>9.35</td>\n",
              "    </tr>\n",
              "    <tr>\n",
              "      <th>85099B</th>\n",
              "      <td>10485.81</td>\n",
              "    </tr>\n",
              "    <tr>\n",
              "      <th rowspan=\"5\" valign=\"top\">2011-11-30</th>\n",
              "      <th>22086</th>\n",
              "      <td>28985.04</td>\n",
              "    </tr>\n",
              "    <tr>\n",
              "      <th>22197</th>\n",
              "      <td>14195.60</td>\n",
              "    </tr>\n",
              "    <tr>\n",
              "      <th>23084</th>\n",
              "      <td>34556.72</td>\n",
              "    </tr>\n",
              "    <tr>\n",
              "      <th>84826</th>\n",
              "      <td>9.35</td>\n",
              "    </tr>\n",
              "    <tr>\n",
              "      <th>85099B</th>\n",
              "      <td>11641.37</td>\n",
              "    </tr>\n",
              "  </tbody>\n",
              "</table>\n",
              "</div>"
            ],
            "text/plain": [
              "                          Sales\n",
              "InvoiceDate StockCode          \n",
              "2010-12-31  22086       9225.80\n",
              "            22197       2630.79\n",
              "            84826        119.10\n",
              "            85099B      4019.15\n",
              "2011-01-31  22086        143.32\n",
              "            22197       1495.48\n",
              "            84826        100.80\n",
              "            85099B      5047.65\n",
              "2011-02-28  22086         24.95\n",
              "            22197       2127.00\n",
              "            84826         17.70\n",
              "            85099B      5617.24\n",
              "2011-03-31  22086        232.01\n",
              "            22197       3032.81\n",
              "            84826         51.00\n",
              "            85099B     10118.38\n",
              "2011-04-30  22086         44.03\n",
              "            22197       1495.57\n",
              "            84826          0.85\n",
              "            85099B      4878.08\n",
              "2011-05-31  22086         65.19\n",
              "            22197       5151.63\n",
              "            23084       2279.57\n",
              "            85099B      7122.73\n",
              "2011-06-30  22086        910.88\n",
              "            22197       1706.91\n",
              "            23084       3326.87\n",
              "            84826          3.40\n",
              "            85099B      7247.98\n",
              "2011-07-31  22086       1077.93\n",
              "            22197       1540.00\n",
              "            23084        668.59\n",
              "            84826          1.70\n",
              "            85099B      6253.87\n",
              "2011-08-31  22086       1334.94\n",
              "            22197       4133.35\n",
              "            23084       3533.57\n",
              "            84826         61.20\n",
              "            85099B     10796.56\n",
              "2011-09-30  22086       6006.10\n",
              "            22197       3607.13\n",
              "            23084        699.78\n",
              "            85099B      8884.33\n",
              "2011-10-31  22086      10031.39\n",
              "            22197       4813.95\n",
              "            23084      12256.87\n",
              "            84826          9.35\n",
              "            85099B     10485.81\n",
              "2011-11-30  22086      28985.04\n",
              "            22197      14195.60\n",
              "            23084      34556.72\n",
              "            84826          9.35\n",
              "            85099B     11641.37"
            ]
          },
          "execution_count": 36,
          "metadata": {},
          "output_type": "execute_result"
        }
      ],
      "source": [
        "# Use the top 5 items by quantity and find the monthly sales for those items \n",
        "m_item_df = pd.DataFrame(\n",
        "    df.loc[\n",
        "        df['StockCode'].isin([23084, 84826, 22197, 22086, '85099B'])\n",
        "    ].set_index('InvoiceDate').groupby([\n",
        "        pd.Grouper(freq='M'), 'StockCode'\n",
        "    ])['Sales'].sum()\n",
        ")\n",
        "m_item_df"
      ]
    },
    {
      "cell_type": "code",
      "execution_count": 37,
      "metadata": {
        "id": "q-T1zJj0h0w4"
      },
      "outputs": [],
      "source": [
        "# transform this data into a tabular format where columns are the individual \n",
        "# stock codes and the rows are the invoice dates\n",
        "itmes_df = m_item_df.reset_index().pivot('InvoiceDate','StockCode').fillna(0)\n",
        "itmes_df = itmes_df.reset_index()\n",
        "itmes_df = itmes_df.set_index('InvoiceDate')\n",
        "itmes_df.columns = itmes_df.columns.droplevel(0)"
      ]
    },
    {
      "cell_type": "code",
      "execution_count": 38,
      "metadata": {
        "id": "cOEhmWAyh0w4",
        "outputId": "af7727e1-6660-4170-fc9e-f8c011e4f98a"
      },
      "outputs": [
        {
          "data": {
            "text/html": [
              "<div>\n",
              "<style scoped>\n",
              "    .dataframe tbody tr th:only-of-type {\n",
              "        vertical-align: middle;\n",
              "    }\n",
              "\n",
              "    .dataframe tbody tr th {\n",
              "        vertical-align: top;\n",
              "    }\n",
              "\n",
              "    .dataframe thead th {\n",
              "        text-align: right;\n",
              "    }\n",
              "</style>\n",
              "<table border=\"1\" class=\"dataframe\">\n",
              "  <thead>\n",
              "    <tr style=\"text-align: right;\">\n",
              "      <th>StockCode</th>\n",
              "      <th>22086</th>\n",
              "      <th>22197</th>\n",
              "      <th>23084</th>\n",
              "      <th>84826</th>\n",
              "      <th>85099B</th>\n",
              "    </tr>\n",
              "    <tr>\n",
              "      <th>InvoiceDate</th>\n",
              "      <th></th>\n",
              "      <th></th>\n",
              "      <th></th>\n",
              "      <th></th>\n",
              "      <th></th>\n",
              "    </tr>\n",
              "  </thead>\n",
              "  <tbody>\n",
              "    <tr>\n",
              "      <th>2010-12-31</th>\n",
              "      <td>9225.80</td>\n",
              "      <td>2630.79</td>\n",
              "      <td>0.00</td>\n",
              "      <td>119.10</td>\n",
              "      <td>4019.15</td>\n",
              "    </tr>\n",
              "    <tr>\n",
              "      <th>2011-01-31</th>\n",
              "      <td>143.32</td>\n",
              "      <td>1495.48</td>\n",
              "      <td>0.00</td>\n",
              "      <td>100.80</td>\n",
              "      <td>5047.65</td>\n",
              "    </tr>\n",
              "    <tr>\n",
              "      <th>2011-02-28</th>\n",
              "      <td>24.95</td>\n",
              "      <td>2127.00</td>\n",
              "      <td>0.00</td>\n",
              "      <td>17.70</td>\n",
              "      <td>5617.24</td>\n",
              "    </tr>\n",
              "    <tr>\n",
              "      <th>2011-03-31</th>\n",
              "      <td>232.01</td>\n",
              "      <td>3032.81</td>\n",
              "      <td>0.00</td>\n",
              "      <td>51.00</td>\n",
              "      <td>10118.38</td>\n",
              "    </tr>\n",
              "    <tr>\n",
              "      <th>2011-04-30</th>\n",
              "      <td>44.03</td>\n",
              "      <td>1495.57</td>\n",
              "      <td>0.00</td>\n",
              "      <td>0.85</td>\n",
              "      <td>4878.08</td>\n",
              "    </tr>\n",
              "    <tr>\n",
              "      <th>2011-05-31</th>\n",
              "      <td>65.19</td>\n",
              "      <td>5151.63</td>\n",
              "      <td>2279.57</td>\n",
              "      <td>0.00</td>\n",
              "      <td>7122.73</td>\n",
              "    </tr>\n",
              "    <tr>\n",
              "      <th>2011-06-30</th>\n",
              "      <td>910.88</td>\n",
              "      <td>1706.91</td>\n",
              "      <td>3326.87</td>\n",
              "      <td>3.40</td>\n",
              "      <td>7247.98</td>\n",
              "    </tr>\n",
              "    <tr>\n",
              "      <th>2011-07-31</th>\n",
              "      <td>1077.93</td>\n",
              "      <td>1540.00</td>\n",
              "      <td>668.59</td>\n",
              "      <td>1.70</td>\n",
              "      <td>6253.87</td>\n",
              "    </tr>\n",
              "    <tr>\n",
              "      <th>2011-08-31</th>\n",
              "      <td>1334.94</td>\n",
              "      <td>4133.35</td>\n",
              "      <td>3533.57</td>\n",
              "      <td>61.20</td>\n",
              "      <td>10796.56</td>\n",
              "    </tr>\n",
              "    <tr>\n",
              "      <th>2011-09-30</th>\n",
              "      <td>6006.10</td>\n",
              "      <td>3607.13</td>\n",
              "      <td>699.78</td>\n",
              "      <td>0.00</td>\n",
              "      <td>8884.33</td>\n",
              "    </tr>\n",
              "    <tr>\n",
              "      <th>2011-10-31</th>\n",
              "      <td>10031.39</td>\n",
              "      <td>4813.95</td>\n",
              "      <td>12256.87</td>\n",
              "      <td>9.35</td>\n",
              "      <td>10485.81</td>\n",
              "    </tr>\n",
              "    <tr>\n",
              "      <th>2011-11-30</th>\n",
              "      <td>28985.04</td>\n",
              "      <td>14195.60</td>\n",
              "      <td>34556.72</td>\n",
              "      <td>9.35</td>\n",
              "      <td>11641.37</td>\n",
              "    </tr>\n",
              "  </tbody>\n",
              "</table>\n",
              "</div>"
            ],
            "text/plain": [
              "StockCode       22086     22197     23084   84826    85099B\n",
              "InvoiceDate                                                \n",
              "2010-12-31    9225.80   2630.79      0.00  119.10   4019.15\n",
              "2011-01-31     143.32   1495.48      0.00  100.80   5047.65\n",
              "2011-02-28      24.95   2127.00      0.00   17.70   5617.24\n",
              "2011-03-31     232.01   3032.81      0.00   51.00  10118.38\n",
              "2011-04-30      44.03   1495.57      0.00    0.85   4878.08\n",
              "2011-05-31      65.19   5151.63   2279.57    0.00   7122.73\n",
              "2011-06-30     910.88   1706.91   3326.87    3.40   7247.98\n",
              "2011-07-31    1077.93   1540.00    668.59    1.70   6253.87\n",
              "2011-08-31    1334.94   4133.35   3533.57   61.20  10796.56\n",
              "2011-09-30    6006.10   3607.13    699.78    0.00   8884.33\n",
              "2011-10-31   10031.39   4813.95  12256.87    9.35  10485.81\n",
              "2011-11-30   28985.04  14195.60  34556.72    9.35  11641.37"
            ]
          },
          "execution_count": 38,
          "metadata": {},
          "output_type": "execute_result"
        }
      ],
      "source": [
        "itmes_df"
      ]
    },
    {
      "cell_type": "code",
      "execution_count": 39,
      "metadata": {
        "id": "lqbbM8XRh0w4",
        "outputId": "3b9cecb9-5ac3-44e4-e4b4-e1e2d6f1ed7e"
      },
      "outputs": [
        {
          "data": {
            "image/png": "[encoded data removed]",
            "text/plain": [
              "<Figure size 720x504 with 1 Axes>"
            ]
          },
          "metadata": {
            "needs_background": "light"
          },
          "output_type": "display_data"
        }
      ],
      "source": [
        "# Time series plot for the top 5 items\n",
        "plot1 = pd.DataFrame(itmes_df.values).plot(\n",
        "    figsize=(10,7),\n",
        "    grid=True,\n",
        ")\n",
        "\n",
        "plot1.set_ylabel('number of purchases')\n",
        "plot1.set_xlabel('date')\n",
        "plot1.set_title('Item Trends over Time')\n",
        "\n",
        "plot1.legend(itmes_df.columns, loc='upper left')\n",
        "\n",
        "plt.xticks(\n",
        "    range(len(itmes_df.index)), \n",
        "    [x.strftime('%m.%Y') for x in itmes_df.index], \n",
        "    rotation=45\n",
        ")\n",
        "\n",
        "plt.show()"
      ]
    },
    {
      "cell_type": "markdown",
      "metadata": {
        "id": "nPOGdeGCh0w5"
      },
      "source": [
        "Looking into the sales of the products that have sold the maximum quantity we can see that 22197 (Orange) has performed consistently throughout the year whereas 23084 (Green) and 22086 (Blue) have had significant raise in the 10th and 11th month meaning they are seasonal and they can be stocked accordingly to make room for other products in the months when its demand is relatively low"
      ]
    },
    {
      "cell_type": "code",
      "execution_count": 40,
      "metadata": {
        "id": "t4vLrVtUh0w5",
        "outputId": "316db78e-85ca-4fc3-f575-1f0d5420e8ea"
      },
      "outputs": [
        {
          "name": "stdout",
          "output_type": "stream",
          "text": [
            "  StockCode     Sales\n",
            "0       DOT  36905.40\n",
            "1     23084  34556.72\n",
            "2     22086  28985.04\n",
            "3     22197  14195.60\n",
            "4    85123A  14136.70\n"
          ]
        }
      ],
      "source": [
        "print(last_m_rev_sorted_df.head())"
      ]
    },
    {
      "cell_type": "code",
      "execution_count": 41,
      "metadata": {
        "id": "tPwtyK_2h0w5",
        "outputId": "5bd90d03-3ca0-4df6-b13c-799611409e0a"
      },
      "outputs": [
        {
          "data": {
            "text/html": [
              "<div>\n",
              "<style scoped>\n",
              "    .dataframe tbody tr th:only-of-type {\n",
              "        vertical-align: middle;\n",
              "    }\n",
              "\n",
              "    .dataframe tbody tr th {\n",
              "        vertical-align: top;\n",
              "    }\n",
              "\n",
              "    .dataframe thead th {\n",
              "        text-align: right;\n",
              "    }\n",
              "</style>\n",
              "<table border=\"1\" class=\"dataframe\">\n",
              "  <thead>\n",
              "    <tr style=\"text-align: right;\">\n",
              "      <th></th>\n",
              "      <th></th>\n",
              "      <th>Sales</th>\n",
              "    </tr>\n",
              "    <tr>\n",
              "      <th>InvoiceDate</th>\n",
              "      <th>StockCode</th>\n",
              "      <th></th>\n",
              "    </tr>\n",
              "  </thead>\n",
              "  <tbody>\n",
              "    <tr>\n",
              "      <th rowspan=\"4\" valign=\"top\">2010-12-31</th>\n",
              "      <th>22197</th>\n",
              "      <td>2630.79</td>\n",
              "    </tr>\n",
              "    <tr>\n",
              "      <th>22806</th>\n",
              "      <td>35.40</td>\n",
              "    </tr>\n",
              "    <tr>\n",
              "      <th>85123A</th>\n",
              "      <td>10435.36</td>\n",
              "    </tr>\n",
              "    <tr>\n",
              "      <th>DOT</th>\n",
              "      <td>24671.19</td>\n",
              "    </tr>\n",
              "    <tr>\n",
              "      <th rowspan=\"4\" valign=\"top\">2011-01-31</th>\n",
              "      <th>22197</th>\n",
              "      <td>1495.48</td>\n",
              "    </tr>\n",
              "    <tr>\n",
              "      <th>22806</th>\n",
              "      <td>17.70</td>\n",
              "    </tr>\n",
              "    <tr>\n",
              "      <th>85123A</th>\n",
              "      <td>15223.21</td>\n",
              "    </tr>\n",
              "    <tr>\n",
              "      <th>DOT</th>\n",
              "      <td>13921.82</td>\n",
              "    </tr>\n",
              "    <tr>\n",
              "      <th rowspan=\"4\" valign=\"top\">2011-02-28</th>\n",
              "      <th>22197</th>\n",
              "      <td>2127.00</td>\n",
              "    </tr>\n",
              "    <tr>\n",
              "      <th>22806</th>\n",
              "      <td>17.70</td>\n",
              "    </tr>\n",
              "    <tr>\n",
              "      <th>85123A</th>\n",
              "      <td>5140.11</td>\n",
              "    </tr>\n",
              "    <tr>\n",
              "      <th>DOT</th>\n",
              "      <td>10060.57</td>\n",
              "    </tr>\n",
              "    <tr>\n",
              "      <th rowspan=\"4\" valign=\"top\">2011-03-31</th>\n",
              "      <th>22197</th>\n",
              "      <td>3032.81</td>\n",
              "    </tr>\n",
              "    <tr>\n",
              "      <th>22806</th>\n",
              "      <td>129.69</td>\n",
              "    </tr>\n",
              "    <tr>\n",
              "      <th>85123A</th>\n",
              "      <td>5597.90</td>\n",
              "    </tr>\n",
              "    <tr>\n",
              "      <th>DOT</th>\n",
              "      <td>11829.71</td>\n",
              "    </tr>\n",
              "    <tr>\n",
              "      <th rowspan=\"4\" valign=\"top\">2011-04-30</th>\n",
              "      <th>22197</th>\n",
              "      <td>1495.57</td>\n",
              "    </tr>\n",
              "    <tr>\n",
              "      <th>22806</th>\n",
              "      <td>11.58</td>\n",
              "    </tr>\n",
              "    <tr>\n",
              "      <th>85123A</th>\n",
              "      <td>10017.79</td>\n",
              "    </tr>\n",
              "    <tr>\n",
              "      <th>DOT</th>\n",
              "      <td>7535.38</td>\n",
              "    </tr>\n",
              "    <tr>\n",
              "      <th rowspan=\"5\" valign=\"top\">2011-05-31</th>\n",
              "      <th>22197</th>\n",
              "      <td>5151.63</td>\n",
              "    </tr>\n",
              "    <tr>\n",
              "      <th>22806</th>\n",
              "      <td>29.39</td>\n",
              "    </tr>\n",
              "    <tr>\n",
              "      <th>23084</th>\n",
              "      <td>2279.57</td>\n",
              "    </tr>\n",
              "    <tr>\n",
              "      <th>85123A</th>\n",
              "      <td>11216.42</td>\n",
              "    </tr>\n",
              "    <tr>\n",
              "      <th>DOT</th>\n",
              "      <td>10229.30</td>\n",
              "    </tr>\n",
              "    <tr>\n",
              "      <th rowspan=\"5\" valign=\"top\">2011-06-30</th>\n",
              "      <th>22197</th>\n",
              "      <td>1706.91</td>\n",
              "    </tr>\n",
              "    <tr>\n",
              "      <th>22806</th>\n",
              "      <td>5.79</td>\n",
              "    </tr>\n",
              "    <tr>\n",
              "      <th>23084</th>\n",
              "      <td>3326.87</td>\n",
              "    </tr>\n",
              "    <tr>\n",
              "      <th>85123A</th>\n",
              "      <td>4680.81</td>\n",
              "    </tr>\n",
              "    <tr>\n",
              "      <th>DOT</th>\n",
              "      <td>11848.66</td>\n",
              "    </tr>\n",
              "    <tr>\n",
              "      <th rowspan=\"5\" valign=\"top\">2011-07-31</th>\n",
              "      <th>22197</th>\n",
              "      <td>1540.00</td>\n",
              "    </tr>\n",
              "    <tr>\n",
              "      <th>22806</th>\n",
              "      <td>145.78</td>\n",
              "    </tr>\n",
              "    <tr>\n",
              "      <th>23084</th>\n",
              "      <td>668.59</td>\n",
              "    </tr>\n",
              "    <tr>\n",
              "      <th>85123A</th>\n",
              "      <td>8504.11</td>\n",
              "    </tr>\n",
              "    <tr>\n",
              "      <th>DOT</th>\n",
              "      <td>12841.00</td>\n",
              "    </tr>\n",
              "    <tr>\n",
              "      <th rowspan=\"5\" valign=\"top\">2011-08-31</th>\n",
              "      <th>22197</th>\n",
              "      <td>4133.35</td>\n",
              "    </tr>\n",
              "    <tr>\n",
              "      <th>22806</th>\n",
              "      <td>20.32</td>\n",
              "    </tr>\n",
              "    <tr>\n",
              "      <th>23084</th>\n",
              "      <td>3533.57</td>\n",
              "    </tr>\n",
              "    <tr>\n",
              "      <th>85123A</th>\n",
              "      <td>5620.57</td>\n",
              "    </tr>\n",
              "    <tr>\n",
              "      <th>DOT</th>\n",
              "      <td>13400.52</td>\n",
              "    </tr>\n",
              "    <tr>\n",
              "      <th rowspan=\"5\" valign=\"top\">2011-09-30</th>\n",
              "      <th>22197</th>\n",
              "      <td>3607.13</td>\n",
              "    </tr>\n",
              "    <tr>\n",
              "      <th>22806</th>\n",
              "      <td>91.45</td>\n",
              "    </tr>\n",
              "    <tr>\n",
              "      <th>23084</th>\n",
              "      <td>699.78</td>\n",
              "    </tr>\n",
              "    <tr>\n",
              "      <th>85123A</th>\n",
              "      <td>6957.46</td>\n",
              "    </tr>\n",
              "    <tr>\n",
              "      <th>DOT</th>\n",
              "      <td>15177.40</td>\n",
              "    </tr>\n",
              "    <tr>\n",
              "      <th rowspan=\"5\" valign=\"top\">2011-10-31</th>\n",
              "      <th>22197</th>\n",
              "      <td>4813.95</td>\n",
              "    </tr>\n",
              "    <tr>\n",
              "      <th>22806</th>\n",
              "      <td>20.65</td>\n",
              "    </tr>\n",
              "    <tr>\n",
              "      <th>23084</th>\n",
              "      <td>12256.87</td>\n",
              "    </tr>\n",
              "    <tr>\n",
              "      <th>85123A</th>\n",
              "      <td>4761.95</td>\n",
              "    </tr>\n",
              "    <tr>\n",
              "      <th>DOT</th>\n",
              "      <td>17955.13</td>\n",
              "    </tr>\n",
              "    <tr>\n",
              "      <th rowspan=\"5\" valign=\"top\">2011-11-30</th>\n",
              "      <th>22197</th>\n",
              "      <td>14195.60</td>\n",
              "    </tr>\n",
              "    <tr>\n",
              "      <th>22806</th>\n",
              "      <td>58.89</td>\n",
              "    </tr>\n",
              "    <tr>\n",
              "      <th>23084</th>\n",
              "      <td>34556.72</td>\n",
              "    </tr>\n",
              "    <tr>\n",
              "      <th>85123A</th>\n",
              "      <td>14136.70</td>\n",
              "    </tr>\n",
              "    <tr>\n",
              "      <th>DOT</th>\n",
              "      <td>36905.40</td>\n",
              "    </tr>\n",
              "  </tbody>\n",
              "</table>\n",
              "</div>"
            ],
            "text/plain": [
              "                          Sales\n",
              "InvoiceDate StockCode          \n",
              "2010-12-31  22197       2630.79\n",
              "            22806         35.40\n",
              "            85123A     10435.36\n",
              "            DOT        24671.19\n",
              "2011-01-31  22197       1495.48\n",
              "            22806         17.70\n",
              "            85123A     15223.21\n",
              "            DOT        13921.82\n",
              "2011-02-28  22197       2127.00\n",
              "            22806         17.70\n",
              "            85123A      5140.11\n",
              "            DOT        10060.57\n",
              "2011-03-31  22197       3032.81\n",
              "            22806        129.69\n",
              "            85123A      5597.90\n",
              "            DOT        11829.71\n",
              "2011-04-30  22197       1495.57\n",
              "            22806         11.58\n",
              "            85123A     10017.79\n",
              "            DOT         7535.38\n",
              "2011-05-31  22197       5151.63\n",
              "            22806         29.39\n",
              "            23084       2279.57\n",
              "            85123A     11216.42\n",
              "            DOT        10229.30\n",
              "2011-06-30  22197       1706.91\n",
              "            22806          5.79\n",
              "            23084       3326.87\n",
              "            85123A      4680.81\n",
              "            DOT        11848.66\n",
              "2011-07-31  22197       1540.00\n",
              "            22806        145.78\n",
              "            23084        668.59\n",
              "            85123A      8504.11\n",
              "            DOT        12841.00\n",
              "2011-08-31  22197       4133.35\n",
              "            22806         20.32\n",
              "            23084       3533.57\n",
              "            85123A      5620.57\n",
              "            DOT        13400.52\n",
              "2011-09-30  22197       3607.13\n",
              "            22806         91.45\n",
              "            23084        699.78\n",
              "            85123A      6957.46\n",
              "            DOT        15177.40\n",
              "2011-10-31  22197       4813.95\n",
              "            22806         20.65\n",
              "            23084      12256.87\n",
              "            85123A      4761.95\n",
              "            DOT        17955.13\n",
              "2011-11-30  22197      14195.60\n",
              "            22806         58.89\n",
              "            23084      34556.72\n",
              "            85123A     14136.70\n",
              "            DOT        36905.40"
            ]
          },
          "execution_count": 41,
          "metadata": {},
          "output_type": "execute_result"
        }
      ],
      "source": [
        "# Use the top 5 items by sales and find the monthly sales for those items \n",
        "m_sales_df = pd.DataFrame(\n",
        "    df.loc[\n",
        "        df['StockCode'].isin(['DOT', 23084, 22806, 22197, '85123A'])\n",
        "    ].set_index('InvoiceDate').groupby([\n",
        "        pd.Grouper(freq='M'), 'StockCode'\n",
        "    ])['Sales'].sum()\n",
        ")\n",
        "m_sales_df"
      ]
    },
    {
      "cell_type": "code",
      "execution_count": 42,
      "metadata": {
        "id": "drgVVnaQh0w5",
        "outputId": "f79dd6e6-c184-40c4-9b53-1fef7a595f0c"
      },
      "outputs": [
        {
          "data": {
            "text/html": [
              "<div>\n",
              "<style scoped>\n",
              "    .dataframe tbody tr th:only-of-type {\n",
              "        vertical-align: middle;\n",
              "    }\n",
              "\n",
              "    .dataframe tbody tr th {\n",
              "        vertical-align: top;\n",
              "    }\n",
              "\n",
              "    .dataframe thead th {\n",
              "        text-align: right;\n",
              "    }\n",
              "</style>\n",
              "<table border=\"1\" class=\"dataframe\">\n",
              "  <thead>\n",
              "    <tr style=\"text-align: right;\">\n",
              "      <th>StockCode</th>\n",
              "      <th>22197</th>\n",
              "      <th>22806</th>\n",
              "      <th>23084</th>\n",
              "      <th>85123A</th>\n",
              "      <th>DOT</th>\n",
              "    </tr>\n",
              "    <tr>\n",
              "      <th>InvoiceDate</th>\n",
              "      <th></th>\n",
              "      <th></th>\n",
              "      <th></th>\n",
              "      <th></th>\n",
              "      <th></th>\n",
              "    </tr>\n",
              "  </thead>\n",
              "  <tbody>\n",
              "    <tr>\n",
              "      <th>2010-12-31</th>\n",
              "      <td>2630.79</td>\n",
              "      <td>35.40</td>\n",
              "      <td>0.00</td>\n",
              "      <td>10435.36</td>\n",
              "      <td>24671.19</td>\n",
              "    </tr>\n",
              "    <tr>\n",
              "      <th>2011-01-31</th>\n",
              "      <td>1495.48</td>\n",
              "      <td>17.70</td>\n",
              "      <td>0.00</td>\n",
              "      <td>15223.21</td>\n",
              "      <td>13921.82</td>\n",
              "    </tr>\n",
              "    <tr>\n",
              "      <th>2011-02-28</th>\n",
              "      <td>2127.00</td>\n",
              "      <td>17.70</td>\n",
              "      <td>0.00</td>\n",
              "      <td>5140.11</td>\n",
              "      <td>10060.57</td>\n",
              "    </tr>\n",
              "    <tr>\n",
              "      <th>2011-03-31</th>\n",
              "      <td>3032.81</td>\n",
              "      <td>129.69</td>\n",
              "      <td>0.00</td>\n",
              "      <td>5597.90</td>\n",
              "      <td>11829.71</td>\n",
              "    </tr>\n",
              "    <tr>\n",
              "      <th>2011-04-30</th>\n",
              "      <td>1495.57</td>\n",
              "      <td>11.58</td>\n",
              "      <td>0.00</td>\n",
              "      <td>10017.79</td>\n",
              "      <td>7535.38</td>\n",
              "    </tr>\n",
              "    <tr>\n",
              "      <th>2011-05-31</th>\n",
              "      <td>5151.63</td>\n",
              "      <td>29.39</td>\n",
              "      <td>2279.57</td>\n",
              "      <td>11216.42</td>\n",
              "      <td>10229.30</td>\n",
              "    </tr>\n",
              "    <tr>\n",
              "      <th>2011-06-30</th>\n",
              "      <td>1706.91</td>\n",
              "      <td>5.79</td>\n",
              "      <td>3326.87</td>\n",
              "      <td>4680.81</td>\n",
              "      <td>11848.66</td>\n",
              "    </tr>\n",
              "    <tr>\n",
              "      <th>2011-07-31</th>\n",
              "      <td>1540.00</td>\n",
              "      <td>145.78</td>\n",
              "      <td>668.59</td>\n",
              "      <td>8504.11</td>\n",
              "      <td>12841.00</td>\n",
              "    </tr>\n",
              "    <tr>\n",
              "      <th>2011-08-31</th>\n",
              "      <td>4133.35</td>\n",
              "      <td>20.32</td>\n",
              "      <td>3533.57</td>\n",
              "      <td>5620.57</td>\n",
              "      <td>13400.52</td>\n",
              "    </tr>\n",
              "    <tr>\n",
              "      <th>2011-09-30</th>\n",
              "      <td>3607.13</td>\n",
              "      <td>91.45</td>\n",
              "      <td>699.78</td>\n",
              "      <td>6957.46</td>\n",
              "      <td>15177.40</td>\n",
              "    </tr>\n",
              "    <tr>\n",
              "      <th>2011-10-31</th>\n",
              "      <td>4813.95</td>\n",
              "      <td>20.65</td>\n",
              "      <td>12256.87</td>\n",
              "      <td>4761.95</td>\n",
              "      <td>17955.13</td>\n",
              "    </tr>\n",
              "    <tr>\n",
              "      <th>2011-11-30</th>\n",
              "      <td>14195.60</td>\n",
              "      <td>58.89</td>\n",
              "      <td>34556.72</td>\n",
              "      <td>14136.70</td>\n",
              "      <td>36905.40</td>\n",
              "    </tr>\n",
              "  </tbody>\n",
              "</table>\n",
              "</div>"
            ],
            "text/plain": [
              "StockCode       22197   22806     23084    85123A       DOT\n",
              "InvoiceDate                                                \n",
              "2010-12-31    2630.79   35.40      0.00  10435.36  24671.19\n",
              "2011-01-31    1495.48   17.70      0.00  15223.21  13921.82\n",
              "2011-02-28    2127.00   17.70      0.00   5140.11  10060.57\n",
              "2011-03-31    3032.81  129.69      0.00   5597.90  11829.71\n",
              "2011-04-30    1495.57   11.58      0.00  10017.79   7535.38\n",
              "2011-05-31    5151.63   29.39   2279.57  11216.42  10229.30\n",
              "2011-06-30    1706.91    5.79   3326.87   4680.81  11848.66\n",
              "2011-07-31    1540.00  145.78    668.59   8504.11  12841.00\n",
              "2011-08-31    4133.35   20.32   3533.57   5620.57  13400.52\n",
              "2011-09-30    3607.13   91.45    699.78   6957.46  15177.40\n",
              "2011-10-31    4813.95   20.65  12256.87   4761.95  17955.13\n",
              "2011-11-30   14195.60   58.89  34556.72  14136.70  36905.40"
            ]
          },
          "execution_count": 42,
          "metadata": {},
          "output_type": "execute_result"
        }
      ],
      "source": [
        "# transform this data into a tabular format where columns are the individual \n",
        "# stock codes and the rows are the invoice dates\n",
        "\n",
        "s_itmes_df = m_sales_df.reset_index().pivot('InvoiceDate','StockCode').fillna(0)\n",
        "s_itmes_df = s_itmes_df.reset_index()\n",
        "s_itmes_df = s_itmes_df.set_index('InvoiceDate')\n",
        "s_itmes_df.columns = s_itmes_df.columns.droplevel(0)\n",
        "\n",
        "s_itmes_df\n"
      ]
    },
    {
      "cell_type": "code",
      "execution_count": 43,
      "metadata": {
        "id": "qkC4tkqih0w5",
        "outputId": "197441d3-7a36-4ee0-d753-154c64683060"
      },
      "outputs": [
        {
          "data": {
            "image/png": "[encoded data removed]",
            "text/plain": [
              "<Figure size 720x504 with 1 Axes>"
            ]
          },
          "metadata": {
            "needs_background": "light"
          },
          "output_type": "display_data"
        }
      ],
      "source": [
        "# Time series plot for the top 5 items\n",
        "\n",
        "plot1 = pd.DataFrame(s_itmes_df.values).plot(\n",
        "    figsize=(10,7),\n",
        "    grid=True,\n",
        ")\n",
        "\n",
        "plot1.set_ylabel('sales')\n",
        "plot1.set_xlabel('date')\n",
        "plot1.set_title('Item Trends over Time')\n",
        "\n",
        "plot1.legend(s_itmes_df.columns, loc='upper left')\n",
        "\n",
        "plt.xticks(\n",
        "    range(len(s_itmes_df.index)), \n",
        "    [x.strftime('%m.%Y') for x in s_itmes_df.index], \n",
        "    rotation=45\n",
        ")\n",
        "\n",
        "plt.show()\n"
      ]
    },
    {
      "cell_type": "markdown",
      "metadata": {
        "id": "y94KLlVFh0w6"
      },
      "source": [
        "Even though 22806 has performed very well in the previous plot we can see that compare to the other products it has not produced comparable sales, but this could be one of the products that has improved the foot traffic in the store.\n",
        "Also the Product DOT although it hasn’t appeared in the previous plot has contributed to a significant portion of the sales here, same can be said about the 85123A product.\n",
        "In contrast 23084 is a star product that has both sales quantity and sales making it one of our star products. "
      ]
    },
    {
      "cell_type": "code",
      "execution_count": 44,
      "metadata": {
        "id": "Hf5wRVbNh0w6"
      },
      "outputs": [],
      "source": [
        "# Drop NaN records\n",
        "df = df[pd.notnull(df['CustomerID'])]"
      ]
    },
    {
      "cell_type": "code",
      "execution_count": 45,
      "metadata": {
        "id": "9N1FcgAVh0w6",
        "outputId": "c82530ab-7c9d-469a-939e-bb8909fd607c"
      },
      "outputs": [
        {
          "data": {
            "text/plain": [
              "(380620, 9)"
            ]
          },
          "execution_count": 45,
          "metadata": {},
          "output_type": "execute_result"
        }
      ],
      "source": [
        "df.shape"
      ]
    },
    {
      "cell_type": "code",
      "execution_count": 46,
      "metadata": {
        "id": "MzhxycSlh0w6"
      },
      "outputs": [],
      "source": [
        " # Summarize the data for each order or InvoiceNo\n",
        "\n",
        "orders_df = df.groupby(['CustomerID', 'InvoiceNo']).agg({\n",
        "            'Sales': sum,\n",
        "            'InvoiceDate': max\n",
        "        })"
      ]
    },
    {
      "cell_type": "code",
      "execution_count": 47,
      "metadata": {
        "id": "R1AmqQC3h0w6",
        "outputId": "0013b01c-8b45-4bf0-cf89-f6a3c0b1dc81"
      },
      "outputs": [
        {
          "data": {
            "text/html": [
              "<div>\n",
              "<style scoped>\n",
              "    .dataframe tbody tr th:only-of-type {\n",
              "        vertical-align: middle;\n",
              "    }\n",
              "\n",
              "    .dataframe tbody tr th {\n",
              "        vertical-align: top;\n",
              "    }\n",
              "\n",
              "    .dataframe thead th {\n",
              "        text-align: right;\n",
              "    }\n",
              "</style>\n",
              "<table border=\"1\" class=\"dataframe\">\n",
              "  <thead>\n",
              "    <tr style=\"text-align: right;\">\n",
              "      <th></th>\n",
              "      <th></th>\n",
              "      <th>Sales</th>\n",
              "      <th>InvoiceDate</th>\n",
              "    </tr>\n",
              "    <tr>\n",
              "      <th>CustomerID</th>\n",
              "      <th>InvoiceNo</th>\n",
              "      <th></th>\n",
              "      <th></th>\n",
              "    </tr>\n",
              "  </thead>\n",
              "  <tbody>\n",
              "    <tr>\n",
              "      <th>12346.0</th>\n",
              "      <th>541431</th>\n",
              "      <td>77183.60</td>\n",
              "      <td>2011-01-18 10:01:00</td>\n",
              "    </tr>\n",
              "    <tr>\n",
              "      <th rowspan=\"4\" valign=\"top\">12347.0</th>\n",
              "      <th>537626</th>\n",
              "      <td>711.79</td>\n",
              "      <td>2010-12-07 14:57:00</td>\n",
              "    </tr>\n",
              "    <tr>\n",
              "      <th>542237</th>\n",
              "      <td>475.39</td>\n",
              "      <td>2011-01-26 14:30:00</td>\n",
              "    </tr>\n",
              "    <tr>\n",
              "      <th>549222</th>\n",
              "      <td>636.25</td>\n",
              "      <td>2011-04-07 10:43:00</td>\n",
              "    </tr>\n",
              "    <tr>\n",
              "      <th>556201</th>\n",
              "      <td>382.52</td>\n",
              "      <td>2011-06-09 13:01:00</td>\n",
              "    </tr>\n",
              "    <tr>\n",
              "      <th>...</th>\n",
              "      <th>...</th>\n",
              "      <td>...</td>\n",
              "      <td>...</td>\n",
              "    </tr>\n",
              "    <tr>\n",
              "      <th rowspan=\"2\" valign=\"top\">18283.0</th>\n",
              "      <th>578262</th>\n",
              "      <td>313.65</td>\n",
              "      <td>2011-11-23 13:27:00</td>\n",
              "    </tr>\n",
              "    <tr>\n",
              "      <th>579673</th>\n",
              "      <td>223.61</td>\n",
              "      <td>2011-11-30 12:59:00</td>\n",
              "    </tr>\n",
              "    <tr>\n",
              "      <th rowspan=\"3\" valign=\"top\">18287.0</th>\n",
              "      <th>554065</th>\n",
              "      <td>765.28</td>\n",
              "      <td>2011-05-22 10:39:00</td>\n",
              "    </tr>\n",
              "    <tr>\n",
              "      <th>570715</th>\n",
              "      <td>1001.32</td>\n",
              "      <td>2011-10-12 10:23:00</td>\n",
              "    </tr>\n",
              "    <tr>\n",
              "      <th>573167</th>\n",
              "      <td>70.68</td>\n",
              "      <td>2011-10-28 09:29:00</td>\n",
              "    </tr>\n",
              "  </tbody>\n",
              "</table>\n",
              "<p>17758 rows × 2 columns</p>\n",
              "</div>"
            ],
            "text/plain": [
              "                         Sales         InvoiceDate\n",
              "CustomerID InvoiceNo                              \n",
              "12346.0    541431     77183.60 2011-01-18 10:01:00\n",
              "12347.0    537626       711.79 2010-12-07 14:57:00\n",
              "           542237       475.39 2011-01-26 14:30:00\n",
              "           549222       636.25 2011-04-07 10:43:00\n",
              "           556201       382.52 2011-06-09 13:01:00\n",
              "...                        ...                 ...\n",
              "18283.0    578262       313.65 2011-11-23 13:27:00\n",
              "           579673       223.61 2011-11-30 12:59:00\n",
              "18287.0    554065       765.28 2011-05-22 10:39:00\n",
              "           570715      1001.32 2011-10-12 10:23:00\n",
              "           573167        70.68 2011-10-28 09:29:00\n",
              "\n",
              "[17758 rows x 2 columns]"
            ]
          },
          "execution_count": 47,
          "metadata": {},
          "output_type": "execute_result"
        }
      ],
      "source": [
        "orders_df"
      ]
    },
    {
      "cell_type": "markdown",
      "metadata": {
        "id": "vJGibXsgh0w7"
      },
      "source": [
        "## Calculate Frequency, Recency, and Total Amount of purchases by each customer"
      ]
    },
    {
      "cell_type": "code",
      "execution_count": 48,
      "metadata": {
        "id": "a91LuJZnh0w7"
      },
      "outputs": [],
      "source": [
        "# Group first by Customer ID first and then aggregate by sales and Invoice Date\n",
        "def groupby_mean(x):\n",
        "    return x.mean()\n",
        "\n",
        "def groupby_count(x):\n",
        "    return x.count()\n",
        "\n",
        "def purchase_duration(x):\n",
        "    return (x.max() - x.min()).days\n",
        "\n",
        "def avg_frequency(x):\n",
        "    return (x.max() - x.min()).days/x.count()\n",
        "\n",
        "groupby_mean.__name__ = 'avg'\n",
        "groupby_count.__name__ = 'count'\n",
        "purchase_duration.__name__ = 'purchase_duration'\n",
        "avg_frequency.__name__ = 'purchase_frequency'\n",
        "\n",
        "\n",
        "summary_df = orders_df.reset_index().groupby('CustomerID').agg({\n",
        "    'Sales': [min, max, sum, groupby_mean, groupby_count],\n",
        "    'InvoiceDate': [min, max, purchase_duration, avg_frequency]\n",
        "})"
      ]
    },
    {
      "cell_type": "code",
      "execution_count": 49,
      "metadata": {
        "id": "fhWzUKuxh0w7",
        "outputId": "9d248675-cc83-4f3f-8eb4-f50279117348"
      },
      "outputs": [
        {
          "data": {
            "text/html": [
              "<div>\n",
              "<style scoped>\n",
              "    .dataframe tbody tr th:only-of-type {\n",
              "        vertical-align: middle;\n",
              "    }\n",
              "\n",
              "    .dataframe tbody tr th {\n",
              "        vertical-align: top;\n",
              "    }\n",
              "\n",
              "    .dataframe thead tr th {\n",
              "        text-align: left;\n",
              "    }\n",
              "\n",
              "    .dataframe thead tr:last-of-type th {\n",
              "        text-align: right;\n",
              "    }\n",
              "</style>\n",
              "<table border=\"1\" class=\"dataframe\">\n",
              "  <thead>\n",
              "    <tr>\n",
              "      <th></th>\n",
              "      <th colspan=\"5\" halign=\"left\">Sales</th>\n",
              "      <th colspan=\"4\" halign=\"left\">InvoiceDate</th>\n",
              "    </tr>\n",
              "    <tr>\n",
              "      <th></th>\n",
              "      <th>min</th>\n",
              "      <th>max</th>\n",
              "      <th>sum</th>\n",
              "      <th>avg</th>\n",
              "      <th>count</th>\n",
              "      <th>min</th>\n",
              "      <th>max</th>\n",
              "      <th>purchase_duration</th>\n",
              "      <th>purchase_frequency</th>\n",
              "    </tr>\n",
              "    <tr>\n",
              "      <th>CustomerID</th>\n",
              "      <th></th>\n",
              "      <th></th>\n",
              "      <th></th>\n",
              "      <th></th>\n",
              "      <th></th>\n",
              "      <th></th>\n",
              "      <th></th>\n",
              "      <th></th>\n",
              "      <th></th>\n",
              "    </tr>\n",
              "  </thead>\n",
              "  <tbody>\n",
              "    <tr>\n",
              "      <th>12346.0</th>\n",
              "      <td>77183.60</td>\n",
              "      <td>77183.60</td>\n",
              "      <td>77183.60</td>\n",
              "      <td>77183.600000</td>\n",
              "      <td>1</td>\n",
              "      <td>2011-01-18 10:01:00</td>\n",
              "      <td>2011-01-18 10:01:00</td>\n",
              "      <td>0</td>\n",
              "      <td>0.0</td>\n",
              "    </tr>\n",
              "    <tr>\n",
              "      <th>12347.0</th>\n",
              "      <td>382.52</td>\n",
              "      <td>1294.32</td>\n",
              "      <td>4085.18</td>\n",
              "      <td>680.863333</td>\n",
              "      <td>6</td>\n",
              "      <td>2010-12-07 14:57:00</td>\n",
              "      <td>2011-10-31 12:25:00</td>\n",
              "      <td>327</td>\n",
              "      <td>54.5</td>\n",
              "    </tr>\n",
              "    <tr>\n",
              "      <th>12348.0</th>\n",
              "      <td>227.44</td>\n",
              "      <td>892.80</td>\n",
              "      <td>1797.24</td>\n",
              "      <td>449.310000</td>\n",
              "      <td>4</td>\n",
              "      <td>2010-12-16 19:09:00</td>\n",
              "      <td>2011-09-25 13:13:00</td>\n",
              "      <td>282</td>\n",
              "      <td>70.5</td>\n",
              "    </tr>\n",
              "    <tr>\n",
              "      <th>12349.0</th>\n",
              "      <td>1757.55</td>\n",
              "      <td>1757.55</td>\n",
              "      <td>1757.55</td>\n",
              "      <td>1757.550000</td>\n",
              "      <td>1</td>\n",
              "      <td>2011-11-21 09:51:00</td>\n",
              "      <td>2011-11-21 09:51:00</td>\n",
              "      <td>0</td>\n",
              "      <td>0.0</td>\n",
              "    </tr>\n",
              "    <tr>\n",
              "      <th>12350.0</th>\n",
              "      <td>334.40</td>\n",
              "      <td>334.40</td>\n",
              "      <td>334.40</td>\n",
              "      <td>334.400000</td>\n",
              "      <td>1</td>\n",
              "      <td>2011-02-02 16:01:00</td>\n",
              "      <td>2011-02-02 16:01:00</td>\n",
              "      <td>0</td>\n",
              "      <td>0.0</td>\n",
              "    </tr>\n",
              "  </tbody>\n",
              "</table>\n",
              "</div>"
            ],
            "text/plain": [
              "               Sales                                          \\\n",
              "                 min       max       sum           avg count   \n",
              "CustomerID                                                     \n",
              "12346.0     77183.60  77183.60  77183.60  77183.600000     1   \n",
              "12347.0       382.52   1294.32   4085.18    680.863333     6   \n",
              "12348.0       227.44    892.80   1797.24    449.310000     4   \n",
              "12349.0      1757.55   1757.55   1757.55   1757.550000     1   \n",
              "12350.0       334.40    334.40    334.40    334.400000     1   \n",
              "\n",
              "                   InvoiceDate                                        \\\n",
              "                           min                 max purchase_duration   \n",
              "CustomerID                                                             \n",
              "12346.0    2011-01-18 10:01:00 2011-01-18 10:01:00                 0   \n",
              "12347.0    2010-12-07 14:57:00 2011-10-31 12:25:00               327   \n",
              "12348.0    2010-12-16 19:09:00 2011-09-25 13:13:00               282   \n",
              "12349.0    2011-11-21 09:51:00 2011-11-21 09:51:00                 0   \n",
              "12350.0    2011-02-02 16:01:00 2011-02-02 16:01:00                 0   \n",
              "\n",
              "                               \n",
              "           purchase_frequency  \n",
              "CustomerID                     \n",
              "12346.0                   0.0  \n",
              "12347.0                  54.5  \n",
              "12348.0                  70.5  \n",
              "12349.0                   0.0  \n",
              "12350.0                   0.0  "
            ]
          },
          "execution_count": 49,
          "metadata": {},
          "output_type": "execute_result"
        }
      ],
      "source": [
        "summary_df.head()"
      ]
    },
    {
      "cell_type": "code",
      "execution_count": 50,
      "metadata": {
        "id": "hrH5dlrKh0w7"
      },
      "outputs": [],
      "source": [
        "# Distribution of the number of purchases that the repeat customers have made\n",
        "summary_df.columns = ['_'.join(col) for col in summary_df.columns]\n",
        "summary_df = summary_df.loc[summary_df['InvoiceDate_purchase_duration'] > 1]"
      ]
    },
    {
      "cell_type": "code",
      "execution_count": 51,
      "metadata": {
        "id": "JVn5csRHh0w7",
        "outputId": "6ecd89b6-ca3e-4461-c4de-6c8b7b0355ba"
      },
      "outputs": [
        {
          "data": {
            "text/html": [
              "<div>\n",
              "<style scoped>\n",
              "    .dataframe tbody tr th:only-of-type {\n",
              "        vertical-align: middle;\n",
              "    }\n",
              "\n",
              "    .dataframe tbody tr th {\n",
              "        vertical-align: top;\n",
              "    }\n",
              "\n",
              "    .dataframe thead th {\n",
              "        text-align: right;\n",
              "    }\n",
              "</style>\n",
              "<table border=\"1\" class=\"dataframe\">\n",
              "  <thead>\n",
              "    <tr style=\"text-align: right;\">\n",
              "      <th></th>\n",
              "      <th>Sales_min</th>\n",
              "      <th>Sales_max</th>\n",
              "      <th>Sales_sum</th>\n",
              "      <th>Sales_avg</th>\n",
              "      <th>Sales_count</th>\n",
              "      <th>InvoiceDate_min</th>\n",
              "      <th>InvoiceDate_max</th>\n",
              "      <th>InvoiceDate_purchase_duration</th>\n",
              "      <th>InvoiceDate_purchase_frequency</th>\n",
              "    </tr>\n",
              "    <tr>\n",
              "      <th>CustomerID</th>\n",
              "      <th></th>\n",
              "      <th></th>\n",
              "      <th></th>\n",
              "      <th></th>\n",
              "      <th></th>\n",
              "      <th></th>\n",
              "      <th></th>\n",
              "      <th></th>\n",
              "      <th></th>\n",
              "    </tr>\n",
              "  </thead>\n",
              "  <tbody>\n",
              "    <tr>\n",
              "      <th>12347.0</th>\n",
              "      <td>382.52</td>\n",
              "      <td>1294.32</td>\n",
              "      <td>4085.18</td>\n",
              "      <td>680.863333</td>\n",
              "      <td>6</td>\n",
              "      <td>2010-12-07 14:57:00</td>\n",
              "      <td>2011-10-31 12:25:00</td>\n",
              "      <td>327</td>\n",
              "      <td>54.500000</td>\n",
              "    </tr>\n",
              "    <tr>\n",
              "      <th>12348.0</th>\n",
              "      <td>227.44</td>\n",
              "      <td>892.80</td>\n",
              "      <td>1797.24</td>\n",
              "      <td>449.310000</td>\n",
              "      <td>4</td>\n",
              "      <td>2010-12-16 19:09:00</td>\n",
              "      <td>2011-09-25 13:13:00</td>\n",
              "      <td>282</td>\n",
              "      <td>70.500000</td>\n",
              "    </tr>\n",
              "    <tr>\n",
              "      <th>12352.0</th>\n",
              "      <td>120.33</td>\n",
              "      <td>840.30</td>\n",
              "      <td>2506.04</td>\n",
              "      <td>313.255000</td>\n",
              "      <td>8</td>\n",
              "      <td>2011-02-16 12:33:00</td>\n",
              "      <td>2011-11-03 14:37:00</td>\n",
              "      <td>260</td>\n",
              "      <td>32.500000</td>\n",
              "    </tr>\n",
              "    <tr>\n",
              "      <th>12356.0</th>\n",
              "      <td>58.35</td>\n",
              "      <td>2271.62</td>\n",
              "      <td>2811.43</td>\n",
              "      <td>937.143333</td>\n",
              "      <td>3</td>\n",
              "      <td>2011-01-18 09:50:00</td>\n",
              "      <td>2011-11-17 08:40:00</td>\n",
              "      <td>302</td>\n",
              "      <td>100.666667</td>\n",
              "    </tr>\n",
              "    <tr>\n",
              "      <th>12359.0</th>\n",
              "      <td>547.50</td>\n",
              "      <td>2876.85</td>\n",
              "      <td>6372.58</td>\n",
              "      <td>1593.145000</td>\n",
              "      <td>4</td>\n",
              "      <td>2011-01-12 12:43:00</td>\n",
              "      <td>2011-10-13 12:47:00</td>\n",
              "      <td>274</td>\n",
              "      <td>68.500000</td>\n",
              "    </tr>\n",
              "  </tbody>\n",
              "</table>\n",
              "</div>"
            ],
            "text/plain": [
              "            Sales_min  Sales_max  Sales_sum    Sales_avg  Sales_count  \\\n",
              "CustomerID                                                              \n",
              "12347.0        382.52    1294.32    4085.18   680.863333            6   \n",
              "12348.0        227.44     892.80    1797.24   449.310000            4   \n",
              "12352.0        120.33     840.30    2506.04   313.255000            8   \n",
              "12356.0         58.35    2271.62    2811.43   937.143333            3   \n",
              "12359.0        547.50    2876.85    6372.58  1593.145000            4   \n",
              "\n",
              "               InvoiceDate_min     InvoiceDate_max  \\\n",
              "CustomerID                                           \n",
              "12347.0    2010-12-07 14:57:00 2011-10-31 12:25:00   \n",
              "12348.0    2010-12-16 19:09:00 2011-09-25 13:13:00   \n",
              "12352.0    2011-02-16 12:33:00 2011-11-03 14:37:00   \n",
              "12356.0    2011-01-18 09:50:00 2011-11-17 08:40:00   \n",
              "12359.0    2011-01-12 12:43:00 2011-10-13 12:47:00   \n",
              "\n",
              "            InvoiceDate_purchase_duration  InvoiceDate_purchase_frequency  \n",
              "CustomerID                                                                 \n",
              "12347.0                               327                       54.500000  \n",
              "12348.0                               282                       70.500000  \n",
              "12352.0                               260                       32.500000  \n",
              "12356.0                               302                      100.666667  \n",
              "12359.0                               274                       68.500000  "
            ]
          },
          "execution_count": 51,
          "metadata": {},
          "output_type": "execute_result"
        }
      ],
      "source": [
        "summary_df.head()"
      ]
    },
    {
      "cell_type": "code",
      "execution_count": 52,
      "metadata": {
        "id": "IcN8BtXuh0w7",
        "outputId": "18fe61be-ab8b-465a-c905-9e3aee4d9171"
      },
      "outputs": [
        {
          "data": {
            "image/png": "[encoded data removed]",
            "text/plain": [
              "<Figure size 864x504 with 1 Axes>"
            ]
          },
          "metadata": {
            "needs_background": "light"
          },
          "output_type": "display_data"
        }
      ],
      "source": [
        "# Group by sales_count and plot the sales_count with customers with more than 1 purchase\n",
        "\n",
        "ax = summary_df.groupby('Sales_count').count()[:20].plot(\n",
        "    kind='bar', \n",
        "    color='skyblue',\n",
        "    figsize=(12,7), \n",
        "    grid=True\n",
        ")\n",
        "\n",
        "ax.set_ylabel('count')\n",
        "\n",
        "plt.show()"
      ]
    },
    {
      "cell_type": "code",
      "execution_count": 53,
      "metadata": {
        "id": "VszLMwCvh0w8",
        "outputId": "ce9c524c-6aff-4d83-81d2-c4189a684f07"
      },
      "outputs": [
        {
          "data": {
            "image/png": "[encoded data removed]",
            "text/plain": [
              "<Figure size 864x504 with 1 Axes>"
            ]
          },
          "metadata": {
            "needs_background": "light"
          },
          "output_type": "display_data"
        }
      ],
      "source": [
        "ax = summary_df.groupby('Sales_count').count()['Sales_sum'][:20].plot(\n",
        "    kind='bar', \n",
        "    color='skyblue',\n",
        "    figsize=(12,7), \n",
        "    grid=True\n",
        ")\n",
        "\n",
        "ax.set_ylabel('count')\n",
        "\n",
        "plt.show()"
      ]
    },
    {
      "cell_type": "code",
      "execution_count": 54,
      "metadata": {
        "id": "70m_Stthh0w8",
        "outputId": "dd9e2ade-9c9d-4d9b-ed9b-fe7f4a1ee6ad"
      },
      "outputs": [
        {
          "data": {
            "image/png": "[encoded data removed]",
            "text/plain": [
              "<Figure size 864x504 with 1 Axes>"
            ]
          },
          "metadata": {
            "needs_background": "light"
          },
          "output_type": "display_data"
        }
      ],
      "source": [
        "# Average number of days between purchases for these repeat customers\n",
        "\n",
        "ax = summary_df['InvoiceDate_purchase_frequency'].hist(\n",
        "    bins=20,\n",
        "    color='skyblue',\n",
        "    rwidth=0.7,\n",
        "    figsize=(12,7)\n",
        ")\n",
        "\n",
        "ax.set_xlabel('avg. number of days between purchases')\n",
        "ax.set_ylabel('count')\n",
        "\n",
        "plt.show()"
      ]
    },
    {
      "cell_type": "markdown",
      "metadata": {
        "id": "5w4AVj1vh0w8"
      },
      "source": [
        "## Predict 3 Month Customer Lifetime Value (CLV)"
      ]
    },
    {
      "cell_type": "code",
      "execution_count": 55,
      "metadata": {
        "id": "w7B0Vdokh0w8"
      },
      "outputs": [],
      "source": [
        "clv_freq = '3M'"
      ]
    },
    {
      "cell_type": "code",
      "execution_count": 56,
      "metadata": {
        "id": "F863EKNnh0w8"
      },
      "outputs": [],
      "source": [
        "# Break down data into 3 months chunk\n",
        "# https://pbpython.com/pandas-grouper-agg.html more info \n",
        "data_df = orders_df.reset_index().groupby([\n",
        "    'CustomerID',\n",
        "    pd.Grouper(key='InvoiceDate', freq='3M')\n",
        "]).agg({\n",
        "    'Sales': [sum, groupby_mean, groupby_count],\n",
        "})\n",
        "\n",
        "data_df.columns = ['_'.join(col) for col in data_df.columns]\n",
        "data_df = data_df.reset_index()"
      ]
    },
    {
      "cell_type": "code",
      "execution_count": 57,
      "metadata": {
        "id": "pOWjjK_Wh0w8",
        "outputId": "e2486b2e-46fd-45a0-a2d9-b115ccd16dbe"
      },
      "outputs": [
        {
          "data": {
            "text/html": [
              "<div>\n",
              "<style scoped>\n",
              "    .dataframe tbody tr th:only-of-type {\n",
              "        vertical-align: middle;\n",
              "    }\n",
              "\n",
              "    .dataframe tbody tr th {\n",
              "        vertical-align: top;\n",
              "    }\n",
              "\n",
              "    .dataframe thead th {\n",
              "        text-align: right;\n",
              "    }\n",
              "</style>\n",
              "<table border=\"1\" class=\"dataframe\">\n",
              "  <thead>\n",
              "    <tr style=\"text-align: right;\">\n",
              "      <th></th>\n",
              "      <th>CustomerID</th>\n",
              "      <th>InvoiceDate</th>\n",
              "      <th>Sales_sum</th>\n",
              "      <th>Sales_avg</th>\n",
              "      <th>Sales_count</th>\n",
              "    </tr>\n",
              "  </thead>\n",
              "  <tbody>\n",
              "    <tr>\n",
              "      <th>0</th>\n",
              "      <td>12346.0</td>\n",
              "      <td>2011-03-31</td>\n",
              "      <td>77183.60</td>\n",
              "      <td>77183.600</td>\n",
              "      <td>1</td>\n",
              "    </tr>\n",
              "    <tr>\n",
              "      <th>1</th>\n",
              "      <td>12347.0</td>\n",
              "      <td>2010-12-31</td>\n",
              "      <td>711.79</td>\n",
              "      <td>711.790</td>\n",
              "      <td>1</td>\n",
              "    </tr>\n",
              "    <tr>\n",
              "      <th>2</th>\n",
              "      <td>12347.0</td>\n",
              "      <td>2011-03-31</td>\n",
              "      <td>475.39</td>\n",
              "      <td>475.390</td>\n",
              "      <td>1</td>\n",
              "    </tr>\n",
              "    <tr>\n",
              "      <th>3</th>\n",
              "      <td>12347.0</td>\n",
              "      <td>2011-06-30</td>\n",
              "      <td>1018.77</td>\n",
              "      <td>509.385</td>\n",
              "      <td>2</td>\n",
              "    </tr>\n",
              "    <tr>\n",
              "      <th>4</th>\n",
              "      <td>12347.0</td>\n",
              "      <td>2011-09-30</td>\n",
              "      <td>584.91</td>\n",
              "      <td>584.910</td>\n",
              "      <td>1</td>\n",
              "    </tr>\n",
              "    <tr>\n",
              "      <th>5</th>\n",
              "      <td>12347.0</td>\n",
              "      <td>2011-12-31</td>\n",
              "      <td>1294.32</td>\n",
              "      <td>1294.320</td>\n",
              "      <td>1</td>\n",
              "    </tr>\n",
              "    <tr>\n",
              "      <th>6</th>\n",
              "      <td>12348.0</td>\n",
              "      <td>2010-12-31</td>\n",
              "      <td>892.80</td>\n",
              "      <td>892.800</td>\n",
              "      <td>1</td>\n",
              "    </tr>\n",
              "    <tr>\n",
              "      <th>7</th>\n",
              "      <td>12348.0</td>\n",
              "      <td>2011-03-31</td>\n",
              "      <td>227.44</td>\n",
              "      <td>227.440</td>\n",
              "      <td>1</td>\n",
              "    </tr>\n",
              "    <tr>\n",
              "      <th>8</th>\n",
              "      <td>12348.0</td>\n",
              "      <td>2011-06-30</td>\n",
              "      <td>367.00</td>\n",
              "      <td>367.000</td>\n",
              "      <td>1</td>\n",
              "    </tr>\n",
              "    <tr>\n",
              "      <th>9</th>\n",
              "      <td>12348.0</td>\n",
              "      <td>2011-09-30</td>\n",
              "      <td>310.00</td>\n",
              "      <td>310.000</td>\n",
              "      <td>1</td>\n",
              "    </tr>\n",
              "  </tbody>\n",
              "</table>\n",
              "</div>"
            ],
            "text/plain": [
              "   CustomerID InvoiceDate  Sales_sum  Sales_avg  Sales_count\n",
              "0     12346.0  2011-03-31   77183.60  77183.600            1\n",
              "1     12347.0  2010-12-31     711.79    711.790            1\n",
              "2     12347.0  2011-03-31     475.39    475.390            1\n",
              "3     12347.0  2011-06-30    1018.77    509.385            2\n",
              "4     12347.0  2011-09-30     584.91    584.910            1\n",
              "5     12347.0  2011-12-31    1294.32   1294.320            1\n",
              "6     12348.0  2010-12-31     892.80    892.800            1\n",
              "7     12348.0  2011-03-31     227.44    227.440            1\n",
              "8     12348.0  2011-06-30     367.00    367.000            1\n",
              "9     12348.0  2011-09-30     310.00    310.000            1"
            ]
          },
          "execution_count": 57,
          "metadata": {},
          "output_type": "execute_result"
        }
      ],
      "source": [
        "data_df.head(10)"
      ]
    },
    {
      "cell_type": "code",
      "execution_count": 58,
      "metadata": {
        "id": "7NpLCuRMh0w9"
      },
      "outputs": [],
      "source": [
        "# Encode the InvoiceDate column\n",
        "\n",
        "date_month_map = {\n",
        "    str(x)[:10]: 'M_%s' % (i+1) for i, x in enumerate(\n",
        "        sorted(data_df.reset_index()['InvoiceDate'].unique(), reverse=True)\n",
        "    )\n",
        "}\n",
        "\n",
        "data_df['M'] = data_df['InvoiceDate'].apply(lambda x: date_month_map[str(x)[:10]])"
      ]
    },
    {
      "cell_type": "code",
      "execution_count": 59,
      "metadata": {
        "id": "vF21lRmfh0w9",
        "outputId": "de9cec77-a468-4474-e7d3-722d35e37c8e"
      },
      "outputs": [
        {
          "data": {
            "text/html": [
              "<div>\n",
              "<style scoped>\n",
              "    .dataframe tbody tr th:only-of-type {\n",
              "        vertical-align: middle;\n",
              "    }\n",
              "\n",
              "    .dataframe tbody tr th {\n",
              "        vertical-align: top;\n",
              "    }\n",
              "\n",
              "    .dataframe thead th {\n",
              "        text-align: right;\n",
              "    }\n",
              "</style>\n",
              "<table border=\"1\" class=\"dataframe\">\n",
              "  <thead>\n",
              "    <tr style=\"text-align: right;\">\n",
              "      <th></th>\n",
              "      <th>CustomerID</th>\n",
              "      <th>InvoiceDate</th>\n",
              "      <th>Sales_sum</th>\n",
              "      <th>Sales_avg</th>\n",
              "      <th>Sales_count</th>\n",
              "      <th>M</th>\n",
              "    </tr>\n",
              "  </thead>\n",
              "  <tbody>\n",
              "    <tr>\n",
              "      <th>0</th>\n",
              "      <td>12346.0</td>\n",
              "      <td>2011-03-31</td>\n",
              "      <td>77183.60</td>\n",
              "      <td>77183.600</td>\n",
              "      <td>1</td>\n",
              "      <td>M_4</td>\n",
              "    </tr>\n",
              "    <tr>\n",
              "      <th>1</th>\n",
              "      <td>12347.0</td>\n",
              "      <td>2010-12-31</td>\n",
              "      <td>711.79</td>\n",
              "      <td>711.790</td>\n",
              "      <td>1</td>\n",
              "      <td>M_5</td>\n",
              "    </tr>\n",
              "    <tr>\n",
              "      <th>2</th>\n",
              "      <td>12347.0</td>\n",
              "      <td>2011-03-31</td>\n",
              "      <td>475.39</td>\n",
              "      <td>475.390</td>\n",
              "      <td>1</td>\n",
              "      <td>M_4</td>\n",
              "    </tr>\n",
              "    <tr>\n",
              "      <th>3</th>\n",
              "      <td>12347.0</td>\n",
              "      <td>2011-06-30</td>\n",
              "      <td>1018.77</td>\n",
              "      <td>509.385</td>\n",
              "      <td>2</td>\n",
              "      <td>M_3</td>\n",
              "    </tr>\n",
              "    <tr>\n",
              "      <th>4</th>\n",
              "      <td>12347.0</td>\n",
              "      <td>2011-09-30</td>\n",
              "      <td>584.91</td>\n",
              "      <td>584.910</td>\n",
              "      <td>1</td>\n",
              "      <td>M_2</td>\n",
              "    </tr>\n",
              "    <tr>\n",
              "      <th>5</th>\n",
              "      <td>12347.0</td>\n",
              "      <td>2011-12-31</td>\n",
              "      <td>1294.32</td>\n",
              "      <td>1294.320</td>\n",
              "      <td>1</td>\n",
              "      <td>M_1</td>\n",
              "    </tr>\n",
              "    <tr>\n",
              "      <th>6</th>\n",
              "      <td>12348.0</td>\n",
              "      <td>2010-12-31</td>\n",
              "      <td>892.80</td>\n",
              "      <td>892.800</td>\n",
              "      <td>1</td>\n",
              "      <td>M_5</td>\n",
              "    </tr>\n",
              "    <tr>\n",
              "      <th>7</th>\n",
              "      <td>12348.0</td>\n",
              "      <td>2011-03-31</td>\n",
              "      <td>227.44</td>\n",
              "      <td>227.440</td>\n",
              "      <td>1</td>\n",
              "      <td>M_4</td>\n",
              "    </tr>\n",
              "    <tr>\n",
              "      <th>8</th>\n",
              "      <td>12348.0</td>\n",
              "      <td>2011-06-30</td>\n",
              "      <td>367.00</td>\n",
              "      <td>367.000</td>\n",
              "      <td>1</td>\n",
              "      <td>M_3</td>\n",
              "    </tr>\n",
              "    <tr>\n",
              "      <th>9</th>\n",
              "      <td>12348.0</td>\n",
              "      <td>2011-09-30</td>\n",
              "      <td>310.00</td>\n",
              "      <td>310.000</td>\n",
              "      <td>1</td>\n",
              "      <td>M_2</td>\n",
              "    </tr>\n",
              "  </tbody>\n",
              "</table>\n",
              "</div>"
            ],
            "text/plain": [
              "   CustomerID InvoiceDate  Sales_sum  Sales_avg  Sales_count    M\n",
              "0     12346.0  2011-03-31   77183.60  77183.600            1  M_4\n",
              "1     12347.0  2010-12-31     711.79    711.790            1  M_5\n",
              "2     12347.0  2011-03-31     475.39    475.390            1  M_4\n",
              "3     12347.0  2011-06-30    1018.77    509.385            2  M_3\n",
              "4     12347.0  2011-09-30     584.91    584.910            1  M_2\n",
              "5     12347.0  2011-12-31    1294.32   1294.320            1  M_1\n",
              "6     12348.0  2010-12-31     892.80    892.800            1  M_5\n",
              "7     12348.0  2011-03-31     227.44    227.440            1  M_4\n",
              "8     12348.0  2011-06-30     367.00    367.000            1  M_3\n",
              "9     12348.0  2011-09-30     310.00    310.000            1  M_2"
            ]
          },
          "execution_count": 59,
          "metadata": {},
          "output_type": "execute_result"
        }
      ],
      "source": [
        "data_df.head(10)"
      ]
    },
    {
      "cell_type": "code",
      "execution_count": 60,
      "metadata": {
        "id": "G9NEMQD9h0w9"
      },
      "outputs": [],
      "source": [
        "# Transform this data into tabular data, where the rows represent the individual customers and the columns represent each feature using Pivot table\n",
        "\n",
        "features_df = pd.pivot_table(\n",
        "    data_df.loc[data_df['M'] != 'M_1'], \n",
        "    values=['Sales_sum', 'Sales_avg', 'Sales_count'], \n",
        "    columns='M', \n",
        "    index='CustomerID'\n",
        ")\n",
        "\n",
        "features_df.columns = ['_'.join(col) for col in features_df.columns]"
      ]
    },
    {
      "cell_type": "code",
      "execution_count": 61,
      "metadata": {
        "id": "7offaQ-Bh0w9"
      },
      "outputs": [],
      "source": [
        "features_df = features_df.fillna(0)"
      ]
    },
    {
      "cell_type": "code",
      "execution_count": 62,
      "metadata": {
        "id": "VPrMUtY0h0w9",
        "outputId": "3f83441e-d38c-41d4-81d7-35db4b200839"
      },
      "outputs": [
        {
          "data": {
            "text/html": [
              "<div>\n",
              "<style scoped>\n",
              "    .dataframe tbody tr th:only-of-type {\n",
              "        vertical-align: middle;\n",
              "    }\n",
              "\n",
              "    .dataframe tbody tr th {\n",
              "        vertical-align: top;\n",
              "    }\n",
              "\n",
              "    .dataframe thead th {\n",
              "        text-align: right;\n",
              "    }\n",
              "</style>\n",
              "<table border=\"1\" class=\"dataframe\">\n",
              "  <thead>\n",
              "    <tr style=\"text-align: right;\">\n",
              "      <th></th>\n",
              "      <th>Sales_avg_M_2</th>\n",
              "      <th>Sales_avg_M_3</th>\n",
              "      <th>Sales_avg_M_4</th>\n",
              "      <th>Sales_avg_M_5</th>\n",
              "      <th>Sales_count_M_2</th>\n",
              "      <th>Sales_count_M_3</th>\n",
              "      <th>Sales_count_M_4</th>\n",
              "      <th>Sales_count_M_5</th>\n",
              "      <th>Sales_sum_M_2</th>\n",
              "      <th>Sales_sum_M_3</th>\n",
              "      <th>Sales_sum_M_4</th>\n",
              "      <th>Sales_sum_M_5</th>\n",
              "    </tr>\n",
              "    <tr>\n",
              "      <th>CustomerID</th>\n",
              "      <th></th>\n",
              "      <th></th>\n",
              "      <th></th>\n",
              "      <th></th>\n",
              "      <th></th>\n",
              "      <th></th>\n",
              "      <th></th>\n",
              "      <th></th>\n",
              "      <th></th>\n",
              "      <th></th>\n",
              "      <th></th>\n",
              "      <th></th>\n",
              "    </tr>\n",
              "  </thead>\n",
              "  <tbody>\n",
              "    <tr>\n",
              "      <th>12346.0</th>\n",
              "      <td>0.00</td>\n",
              "      <td>0.000</td>\n",
              "      <td>77183.600</td>\n",
              "      <td>0.00</td>\n",
              "      <td>0.0</td>\n",
              "      <td>0.0</td>\n",
              "      <td>1.0</td>\n",
              "      <td>0.0</td>\n",
              "      <td>0.00</td>\n",
              "      <td>0.00</td>\n",
              "      <td>77183.60</td>\n",
              "      <td>0.00</td>\n",
              "    </tr>\n",
              "    <tr>\n",
              "      <th>12347.0</th>\n",
              "      <td>584.91</td>\n",
              "      <td>509.385</td>\n",
              "      <td>475.390</td>\n",
              "      <td>711.79</td>\n",
              "      <td>1.0</td>\n",
              "      <td>2.0</td>\n",
              "      <td>1.0</td>\n",
              "      <td>1.0</td>\n",
              "      <td>584.91</td>\n",
              "      <td>1018.77</td>\n",
              "      <td>475.39</td>\n",
              "      <td>711.79</td>\n",
              "    </tr>\n",
              "    <tr>\n",
              "      <th>12348.0</th>\n",
              "      <td>310.00</td>\n",
              "      <td>367.000</td>\n",
              "      <td>227.440</td>\n",
              "      <td>892.80</td>\n",
              "      <td>1.0</td>\n",
              "      <td>1.0</td>\n",
              "      <td>1.0</td>\n",
              "      <td>1.0</td>\n",
              "      <td>310.00</td>\n",
              "      <td>367.00</td>\n",
              "      <td>227.44</td>\n",
              "      <td>892.80</td>\n",
              "    </tr>\n",
              "    <tr>\n",
              "      <th>12350.0</th>\n",
              "      <td>0.00</td>\n",
              "      <td>0.000</td>\n",
              "      <td>334.400</td>\n",
              "      <td>0.00</td>\n",
              "      <td>0.0</td>\n",
              "      <td>0.0</td>\n",
              "      <td>1.0</td>\n",
              "      <td>0.0</td>\n",
              "      <td>0.00</td>\n",
              "      <td>0.00</td>\n",
              "      <td>334.40</td>\n",
              "      <td>0.00</td>\n",
              "    </tr>\n",
              "    <tr>\n",
              "      <th>12352.0</th>\n",
              "      <td>316.25</td>\n",
              "      <td>0.000</td>\n",
              "      <td>312.362</td>\n",
              "      <td>0.00</td>\n",
              "      <td>2.0</td>\n",
              "      <td>0.0</td>\n",
              "      <td>5.0</td>\n",
              "      <td>0.0</td>\n",
              "      <td>632.50</td>\n",
              "      <td>0.00</td>\n",
              "      <td>1561.81</td>\n",
              "      <td>0.00</td>\n",
              "    </tr>\n",
              "  </tbody>\n",
              "</table>\n",
              "</div>"
            ],
            "text/plain": [
              "            Sales_avg_M_2  Sales_avg_M_3  Sales_avg_M_4  Sales_avg_M_5  \\\n",
              "CustomerID                                                               \n",
              "12346.0              0.00          0.000      77183.600           0.00   \n",
              "12347.0            584.91        509.385        475.390         711.79   \n",
              "12348.0            310.00        367.000        227.440         892.80   \n",
              "12350.0              0.00          0.000        334.400           0.00   \n",
              "12352.0            316.25          0.000        312.362           0.00   \n",
              "\n",
              "            Sales_count_M_2  Sales_count_M_3  Sales_count_M_4  \\\n",
              "CustomerID                                                      \n",
              "12346.0                 0.0              0.0              1.0   \n",
              "12347.0                 1.0              2.0              1.0   \n",
              "12348.0                 1.0              1.0              1.0   \n",
              "12350.0                 0.0              0.0              1.0   \n",
              "12352.0                 2.0              0.0              5.0   \n",
              "\n",
              "            Sales_count_M_5  Sales_sum_M_2  Sales_sum_M_3  Sales_sum_M_4  \\\n",
              "CustomerID                                                                 \n",
              "12346.0                 0.0           0.00           0.00       77183.60   \n",
              "12347.0                 1.0         584.91        1018.77         475.39   \n",
              "12348.0                 1.0         310.00         367.00         227.44   \n",
              "12350.0                 0.0           0.00           0.00         334.40   \n",
              "12352.0                 0.0         632.50           0.00        1561.81   \n",
              "\n",
              "            Sales_sum_M_5  \n",
              "CustomerID                 \n",
              "12346.0              0.00  \n",
              "12347.0            711.79  \n",
              "12348.0            892.80  \n",
              "12350.0              0.00  \n",
              "12352.0              0.00  "
            ]
          },
          "execution_count": 62,
          "metadata": {},
          "output_type": "execute_result"
        }
      ],
      "source": [
        "features_df.head()"
      ]
    },
    {
      "cell_type": "code",
      "execution_count": 63,
      "metadata": {
        "id": "LMg9KEsHh0w9"
      },
      "outputs": [],
      "source": [
        "# last 3 months 'M1' group and Sales_sum as the target variable as we want to prdict sales for 3 months\n",
        "response_df = data_df.loc[\n",
        "    data_df['M'] == 'M_1',\n",
        "    ['CustomerID', 'Sales_sum']\n",
        "]\n",
        "\n",
        "response_df.columns = ['CustomerID', 'CLV_'+'3M']"
      ]
    },
    {
      "cell_type": "code",
      "execution_count": 64,
      "metadata": {
        "id": "u50rcI7Oh0w-",
        "outputId": "4ff3ba15-c648-4f90-f7db-8260e98316a5"
      },
      "outputs": [
        {
          "data": {
            "text/html": [
              "<div>\n",
              "<style scoped>\n",
              "    .dataframe tbody tr th:only-of-type {\n",
              "        vertical-align: middle;\n",
              "    }\n",
              "\n",
              "    .dataframe tbody tr th {\n",
              "        vertical-align: top;\n",
              "    }\n",
              "\n",
              "    .dataframe thead th {\n",
              "        text-align: right;\n",
              "    }\n",
              "</style>\n",
              "<table border=\"1\" class=\"dataframe\">\n",
              "  <thead>\n",
              "    <tr style=\"text-align: right;\">\n",
              "      <th></th>\n",
              "      <th>CustomerID</th>\n",
              "      <th>CLV_3M</th>\n",
              "    </tr>\n",
              "  </thead>\n",
              "  <tbody>\n",
              "    <tr>\n",
              "      <th>5</th>\n",
              "      <td>12347.0</td>\n",
              "      <td>1294.32</td>\n",
              "    </tr>\n",
              "    <tr>\n",
              "      <th>10</th>\n",
              "      <td>12349.0</td>\n",
              "      <td>1757.55</td>\n",
              "    </tr>\n",
              "    <tr>\n",
              "      <th>14</th>\n",
              "      <td>12352.0</td>\n",
              "      <td>311.73</td>\n",
              "    </tr>\n",
              "    <tr>\n",
              "      <th>20</th>\n",
              "      <td>12356.0</td>\n",
              "      <td>58.35</td>\n",
              "    </tr>\n",
              "    <tr>\n",
              "      <th>21</th>\n",
              "      <td>12357.0</td>\n",
              "      <td>6207.67</td>\n",
              "    </tr>\n",
              "    <tr>\n",
              "      <th>25</th>\n",
              "      <td>12359.0</td>\n",
              "      <td>2876.85</td>\n",
              "    </tr>\n",
              "    <tr>\n",
              "      <th>28</th>\n",
              "      <td>12360.0</td>\n",
              "      <td>1043.78</td>\n",
              "    </tr>\n",
              "    <tr>\n",
              "      <th>33</th>\n",
              "      <td>12362.0</td>\n",
              "      <td>2119.85</td>\n",
              "    </tr>\n",
              "    <tr>\n",
              "      <th>37</th>\n",
              "      <td>12364.0</td>\n",
              "      <td>299.06</td>\n",
              "    </tr>\n",
              "    <tr>\n",
              "      <th>41</th>\n",
              "      <td>12370.0</td>\n",
              "      <td>739.28</td>\n",
              "    </tr>\n",
              "  </tbody>\n",
              "</table>\n",
              "</div>"
            ],
            "text/plain": [
              "    CustomerID   CLV_3M\n",
              "5      12347.0  1294.32\n",
              "10     12349.0  1757.55\n",
              "14     12352.0   311.73\n",
              "20     12356.0    58.35\n",
              "21     12357.0  6207.67\n",
              "25     12359.0  2876.85\n",
              "28     12360.0  1043.78\n",
              "33     12362.0  2119.85\n",
              "37     12364.0   299.06\n",
              "41     12370.0   739.28"
            ]
          },
          "execution_count": 64,
          "metadata": {},
          "output_type": "execute_result"
        }
      ],
      "source": [
        "response_df.head(10)"
      ]
    },
    {
      "cell_type": "code",
      "execution_count": 65,
      "metadata": {
        "id": "ivIhCOHVh0w-"
      },
      "outputs": [],
      "source": [
        "# Combine the 2 sets together\n",
        "sample_set_df = features_df.merge(\n",
        "    response_df, \n",
        "    left_index=True, \n",
        "    right_on='CustomerID',\n",
        "    how='left'\n",
        ")\n",
        "\n",
        "sample_set_df = sample_set_df.fillna(0)"
      ]
    },
    {
      "cell_type": "code",
      "execution_count": 66,
      "metadata": {
        "id": "h6nXBiYAh0w-",
        "outputId": "f3952c0f-c42f-4c2d-be93-13cd6a91f16b"
      },
      "outputs": [
        {
          "data": {
            "text/html": [
              "<div>\n",
              "<style scoped>\n",
              "    .dataframe tbody tr th:only-of-type {\n",
              "        vertical-align: middle;\n",
              "    }\n",
              "\n",
              "    .dataframe tbody tr th {\n",
              "        vertical-align: top;\n",
              "    }\n",
              "\n",
              "    .dataframe thead th {\n",
              "        text-align: right;\n",
              "    }\n",
              "</style>\n",
              "<table border=\"1\" class=\"dataframe\">\n",
              "  <thead>\n",
              "    <tr style=\"text-align: right;\">\n",
              "      <th></th>\n",
              "      <th>Sales_avg_M_2</th>\n",
              "      <th>Sales_avg_M_3</th>\n",
              "      <th>Sales_avg_M_4</th>\n",
              "      <th>Sales_avg_M_5</th>\n",
              "      <th>Sales_count_M_2</th>\n",
              "      <th>Sales_count_M_3</th>\n",
              "      <th>Sales_count_M_4</th>\n",
              "      <th>Sales_count_M_5</th>\n",
              "      <th>Sales_sum_M_2</th>\n",
              "      <th>Sales_sum_M_3</th>\n",
              "      <th>Sales_sum_M_4</th>\n",
              "      <th>Sales_sum_M_5</th>\n",
              "      <th>CustomerID</th>\n",
              "      <th>CLV_3M</th>\n",
              "    </tr>\n",
              "  </thead>\n",
              "  <tbody>\n",
              "    <tr>\n",
              "      <th>NaN</th>\n",
              "      <td>0.00</td>\n",
              "      <td>0.000</td>\n",
              "      <td>77183.600</td>\n",
              "      <td>0.00</td>\n",
              "      <td>0.0</td>\n",
              "      <td>0.0</td>\n",
              "      <td>1.0</td>\n",
              "      <td>0.0</td>\n",
              "      <td>0.00</td>\n",
              "      <td>0.00</td>\n",
              "      <td>77183.60</td>\n",
              "      <td>0.00</td>\n",
              "      <td>12346.0</td>\n",
              "      <td>0.00</td>\n",
              "    </tr>\n",
              "    <tr>\n",
              "      <th>5.0</th>\n",
              "      <td>584.91</td>\n",
              "      <td>509.385</td>\n",
              "      <td>475.390</td>\n",
              "      <td>711.79</td>\n",
              "      <td>1.0</td>\n",
              "      <td>2.0</td>\n",
              "      <td>1.0</td>\n",
              "      <td>1.0</td>\n",
              "      <td>584.91</td>\n",
              "      <td>1018.77</td>\n",
              "      <td>475.39</td>\n",
              "      <td>711.79</td>\n",
              "      <td>12347.0</td>\n",
              "      <td>1294.32</td>\n",
              "    </tr>\n",
              "    <tr>\n",
              "      <th>NaN</th>\n",
              "      <td>310.00</td>\n",
              "      <td>367.000</td>\n",
              "      <td>227.440</td>\n",
              "      <td>892.80</td>\n",
              "      <td>1.0</td>\n",
              "      <td>1.0</td>\n",
              "      <td>1.0</td>\n",
              "      <td>1.0</td>\n",
              "      <td>310.00</td>\n",
              "      <td>367.00</td>\n",
              "      <td>227.44</td>\n",
              "      <td>892.80</td>\n",
              "      <td>12348.0</td>\n",
              "      <td>0.00</td>\n",
              "    </tr>\n",
              "    <tr>\n",
              "      <th>NaN</th>\n",
              "      <td>0.00</td>\n",
              "      <td>0.000</td>\n",
              "      <td>334.400</td>\n",
              "      <td>0.00</td>\n",
              "      <td>0.0</td>\n",
              "      <td>0.0</td>\n",
              "      <td>1.0</td>\n",
              "      <td>0.0</td>\n",
              "      <td>0.00</td>\n",
              "      <td>0.00</td>\n",
              "      <td>334.40</td>\n",
              "      <td>0.00</td>\n",
              "      <td>12350.0</td>\n",
              "      <td>0.00</td>\n",
              "    </tr>\n",
              "    <tr>\n",
              "      <th>14.0</th>\n",
              "      <td>316.25</td>\n",
              "      <td>0.000</td>\n",
              "      <td>312.362</td>\n",
              "      <td>0.00</td>\n",
              "      <td>2.0</td>\n",
              "      <td>0.0</td>\n",
              "      <td>5.0</td>\n",
              "      <td>0.0</td>\n",
              "      <td>632.50</td>\n",
              "      <td>0.00</td>\n",
              "      <td>1561.81</td>\n",
              "      <td>0.00</td>\n",
              "      <td>12352.0</td>\n",
              "      <td>311.73</td>\n",
              "    </tr>\n",
              "  </tbody>\n",
              "</table>\n",
              "</div>"
            ],
            "text/plain": [
              "      Sales_avg_M_2  Sales_avg_M_3  Sales_avg_M_4  Sales_avg_M_5  \\\n",
              "NaN            0.00          0.000      77183.600           0.00   \n",
              "5.0          584.91        509.385        475.390         711.79   \n",
              "NaN          310.00        367.000        227.440         892.80   \n",
              "NaN            0.00          0.000        334.400           0.00   \n",
              "14.0         316.25          0.000        312.362           0.00   \n",
              "\n",
              "      Sales_count_M_2  Sales_count_M_3  Sales_count_M_4  Sales_count_M_5  \\\n",
              "NaN               0.0              0.0              1.0              0.0   \n",
              "5.0               1.0              2.0              1.0              1.0   \n",
              "NaN               1.0              1.0              1.0              1.0   \n",
              "NaN               0.0              0.0              1.0              0.0   \n",
              "14.0              2.0              0.0              5.0              0.0   \n",
              "\n",
              "      Sales_sum_M_2  Sales_sum_M_3  Sales_sum_M_4  Sales_sum_M_5  CustomerID  \\\n",
              "NaN            0.00           0.00       77183.60           0.00     12346.0   \n",
              "5.0          584.91        1018.77         475.39         711.79     12347.0   \n",
              "NaN          310.00         367.00         227.44         892.80     12348.0   \n",
              "NaN            0.00           0.00         334.40           0.00     12350.0   \n",
              "14.0         632.50           0.00        1561.81           0.00     12352.0   \n",
              "\n",
              "       CLV_3M  \n",
              "NaN      0.00  \n",
              "5.0   1294.32  \n",
              "NaN      0.00  \n",
              "NaN      0.00  \n",
              "14.0   311.73  "
            ]
          },
          "execution_count": 66,
          "metadata": {},
          "output_type": "execute_result"
        }
      ],
      "source": [
        "sample_set_df.head()"
      ]
    },
    {
      "cell_type": "markdown",
      "metadata": {
        "id": "Opkh-9_Hh0w-"
      },
      "source": [
        "## Linear Regression"
      ]
    },
    {
      "cell_type": "code",
      "execution_count": 67,
      "metadata": {
        "id": "Vgl-HFlMh0w-"
      },
      "outputs": [],
      "source": [
        "from sklearn.model_selection import train_test_split\n",
        "\n",
        "target_var = 'CLV_'+'3M'\n",
        "all_features = [x for x in sample_set_df.columns if x not in ['CustomerID', target_var]]\n",
        "\n",
        "x_train, x_test, y_train, y_test = train_test_split(\n",
        "    sample_set_df[all_features], \n",
        "    sample_set_df[target_var], \n",
        "    test_size=0.2\n",
        ")"
      ]
    },
    {
      "cell_type": "code",
      "execution_count": 68,
      "metadata": {
        "id": "yxakgQSGh0w-",
        "outputId": "a967a094-2337-44ea-e1e3-df2582214b6c"
      },
      "outputs": [
        {
          "data": {
            "text/html": [
              "<style>#sk-container-id-1 {color: black;background-color: white;}#sk-container-id-1 pre{padding: 0;}#sk-container-id-1 div.sk-toggleable {background-color: white;}#sk-container-id-1 label.sk-toggleable__label {cursor: pointer;display: block;width: 100%;margin-bottom: 0;padding: 0.3em;box-sizing: border-box;text-align: center;}#sk-container-id-1 label.sk-toggleable__label-arrow:before {content: \"▸\";float: left;margin-right: 0.25em;color: #696969;}#sk-container-id-1 label.sk-toggleable__label-arrow:hover:before {color: black;}#sk-container-id-1 div.sk-estimator:hover label.sk-toggleable__label-arrow:before {color: black;}#sk-container-id-1 div.sk-toggleable__content {max-height: 0;max-width: 0;overflow: hidden;text-align: left;background-color: #f0f8ff;}#sk-container-id-1 div.sk-toggleable__content pre {margin: 0.2em;color: black;border-radius: 0.25em;background-color: #f0f8ff;}#sk-container-id-1 input.sk-toggleable__control:checked~div.sk-toggleable__content {max-height: 200px;max-width: 100%;overflow: auto;}#sk-container-id-1 input.sk-toggleable__control:checked~label.sk-toggleable__label-arrow:before {content: \"▾\";}#sk-container-id-1 div.sk-estimator input.sk-toggleable__control:checked~label.sk-toggleable__label {background-color: #d4ebff;}#sk-container-id-1 div.sk-label input.sk-toggleable__control:checked~label.sk-toggleable__label {background-color: #d4ebff;}#sk-container-id-1 input.sk-hidden--visually {border: 0;clip: rect(1px 1px 1px 1px);clip: rect(1px, 1px, 1px, 1px);height: 1px;margin: -1px;overflow: hidden;padding: 0;position: absolute;width: 1px;}#sk-container-id-1 div.sk-estimator {font-family: monospace;background-color: #f0f8ff;border: 1px dotted black;border-radius: 0.25em;box-sizing: border-box;margin-bottom: 0.5em;}#sk-container-id-1 div.sk-estimator:hover {background-color: #d4ebff;}#sk-container-id-1 div.sk-parallel-item::after {content: \"\";width: 100%;border-bottom: 1px solid gray;flex-grow: 1;}#sk-container-id-1 div.sk-label:hover label.sk-toggleable__label {background-color: #d4ebff;}#sk-container-id-1 div.sk-serial::before {content: \"\";position: absolute;border-left: 1px solid gray;box-sizing: border-box;top: 0;bottom: 0;left: 50%;z-index: 0;}#sk-container-id-1 div.sk-serial {display: flex;flex-direction: column;align-items: center;background-color: white;padding-right: 0.2em;padding-left: 0.2em;position: relative;}#sk-container-id-1 div.sk-item {position: relative;z-index: 1;}#sk-container-id-1 div.sk-parallel {display: flex;align-items: stretch;justify-content: center;background-color: white;position: relative;}#sk-container-id-1 div.sk-item::before, #sk-container-id-1 div.sk-parallel-item::before {content: \"\";position: absolute;border-left: 1px solid gray;box-sizing: border-box;top: 0;bottom: 0;left: 50%;z-index: -1;}#sk-container-id-1 div.sk-parallel-item {display: flex;flex-direction: column;z-index: 1;position: relative;background-color: white;}#sk-container-id-1 div.sk-parallel-item:first-child::after {align-self: flex-end;width: 50%;}#sk-container-id-1 div.sk-parallel-item:last-child::after {align-self: flex-start;width: 50%;}#sk-container-id-1 div.sk-parallel-item:only-child::after {width: 0;}#sk-container-id-1 div.sk-dashed-wrapped {border: 1px dashed gray;margin: 0 0.4em 0.5em 0.4em;box-sizing: border-box;padding-bottom: 0.4em;background-color: white;}#sk-container-id-1 div.sk-label label {font-family: monospace;font-weight: bold;display: inline-block;line-height: 1.2em;}#sk-container-id-1 div.sk-label-container {text-align: center;}#sk-container-id-1 div.sk-container {/* jupyter's `normalize.less` sets `[hidden] { display: none; }` but bootstrap.min.css set `[hidden] { display: none !important; }` so we also need the `!important` here to be able to override the default hidden behavior on the sphinx rendered scikit-learn.org. See: https://github.com/scikit-learn/scikit-learn/issues/21755 */display: inline-block !important;position: relative;}#sk-container-id-1 div.sk-text-repr-fallback {display: none;}</style><div id=\"sk-container-id-1\" class=\"sk-top-container\"><div class=\"sk-text-repr-fallback\"><pre>LinearRegression()</pre><b>In a Jupyter environment, please rerun this cell to show the HTML representation or trust the notebook. <br />On GitHub, the HTML representation is unable to render, please try loading this page with nbviewer.org.</b></div><div class=\"sk-container\" hidden><div class=\"sk-item\"><div class=\"sk-estimator sk-toggleable\"><input class=\"sk-toggleable__control sk-hidden--visually\" id=\"sk-estimator-id-1\" type=\"checkbox\" checked><label for=\"sk-estimator-id-1\" class=\"sk-toggleable__label sk-toggleable__label-arrow\">LinearRegression</label><div class=\"sk-toggleable__content\"><pre>LinearRegression()</pre></div></div></div></div></div>"
            ],
            "text/plain": [
              "LinearRegression()"
            ]
          },
          "execution_count": 68,
          "metadata": {},
          "output_type": "execute_result"
        }
      ],
      "source": [
        "from sklearn.linear_model import LinearRegression\n",
        "\n",
        "reg_fit = LinearRegression()\n",
        "reg_fit.fit(x_train, y_train)"
      ]
    },
    {
      "cell_type": "code",
      "execution_count": 69,
      "metadata": {
        "id": "_pzDqgS7h0w_",
        "outputId": "4c941437-267b-4f11-947d-d08760594e8b"
      },
      "outputs": [
        {
          "data": {
            "text/plain": [
              "78.68112912496849"
            ]
          },
          "execution_count": 69,
          "metadata": {},
          "output_type": "execute_result"
        }
      ],
      "source": [
        "# Calculate the intercept\n",
        "reg_fit.intercept_"
      ]
    },
    {
      "cell_type": "code",
      "execution_count": 70,
      "metadata": {
        "id": "1TJnyJZQh0w_",
        "outputId": "ab2a9404-a07d-4341-d10d-7175d75e4d2f"
      },
      "outputs": [
        {
          "data": {
            "text/plain": [
              "array([ 7.00045643e-02, -4.73258571e-01, -3.05184442e-01, -4.89402845e-01,\n",
              "        7.20045870e+01,  1.67226960e+01, -6.20955835e+01, -5.20224001e+01,\n",
              "        1.72087466e-01,  4.35263135e-01,  3.10448631e-01,  8.58418561e-01])"
            ]
          },
          "execution_count": 70,
          "metadata": {},
          "output_type": "execute_result"
        }
      ],
      "source": [
        "# Calculate the coefficient\n",
        "reg_fit.coef_"
      ]
    },
    {
      "cell_type": "code",
      "execution_count": 71,
      "metadata": {
        "id": "qS6qsFdvh0w_"
      },
      "outputs": [],
      "source": [
        "coef=pd.DataFrame(list(zip(all_features, reg_fit.coef_)))\n",
        "coef.columns =['feature', 'coef']"
      ]
    },
    {
      "cell_type": "code",
      "execution_count": 72,
      "metadata": {
        "id": "srTs2Ujuh0w_",
        "outputId": "ba2791c8-3ec3-423e-971f-6cf142ec4733"
      },
      "outputs": [
        {
          "data": {
            "text/html": [
              "<div>\n",
              "<style scoped>\n",
              "    .dataframe tbody tr th:only-of-type {\n",
              "        vertical-align: middle;\n",
              "    }\n",
              "\n",
              "    .dataframe tbody tr th {\n",
              "        vertical-align: top;\n",
              "    }\n",
              "\n",
              "    .dataframe thead th {\n",
              "        text-align: right;\n",
              "    }\n",
              "</style>\n",
              "<table border=\"1\" class=\"dataframe\">\n",
              "  <thead>\n",
              "    <tr style=\"text-align: right;\">\n",
              "      <th></th>\n",
              "      <th>feature</th>\n",
              "      <th>coef</th>\n",
              "    </tr>\n",
              "  </thead>\n",
              "  <tbody>\n",
              "    <tr>\n",
              "      <th>0</th>\n",
              "      <td>Sales_avg_M_2</td>\n",
              "      <td>0.070005</td>\n",
              "    </tr>\n",
              "    <tr>\n",
              "      <th>1</th>\n",
              "      <td>Sales_avg_M_3</td>\n",
              "      <td>-0.473259</td>\n",
              "    </tr>\n",
              "    <tr>\n",
              "      <th>2</th>\n",
              "      <td>Sales_avg_M_4</td>\n",
              "      <td>-0.305184</td>\n",
              "    </tr>\n",
              "    <tr>\n",
              "      <th>3</th>\n",
              "      <td>Sales_avg_M_5</td>\n",
              "      <td>-0.489403</td>\n",
              "    </tr>\n",
              "    <tr>\n",
              "      <th>4</th>\n",
              "      <td>Sales_count_M_2</td>\n",
              "      <td>72.004587</td>\n",
              "    </tr>\n",
              "    <tr>\n",
              "      <th>5</th>\n",
              "      <td>Sales_count_M_3</td>\n",
              "      <td>16.722696</td>\n",
              "    </tr>\n",
              "    <tr>\n",
              "      <th>6</th>\n",
              "      <td>Sales_count_M_4</td>\n",
              "      <td>-62.095584</td>\n",
              "    </tr>\n",
              "    <tr>\n",
              "      <th>7</th>\n",
              "      <td>Sales_count_M_5</td>\n",
              "      <td>-52.022400</td>\n",
              "    </tr>\n",
              "    <tr>\n",
              "      <th>8</th>\n",
              "      <td>Sales_sum_M_2</td>\n",
              "      <td>0.172087</td>\n",
              "    </tr>\n",
              "    <tr>\n",
              "      <th>9</th>\n",
              "      <td>Sales_sum_M_3</td>\n",
              "      <td>0.435263</td>\n",
              "    </tr>\n",
              "    <tr>\n",
              "      <th>10</th>\n",
              "      <td>Sales_sum_M_4</td>\n",
              "      <td>0.310449</td>\n",
              "    </tr>\n",
              "    <tr>\n",
              "      <th>11</th>\n",
              "      <td>Sales_sum_M_5</td>\n",
              "      <td>0.858419</td>\n",
              "    </tr>\n",
              "  </tbody>\n",
              "</table>\n",
              "</div>"
            ],
            "text/plain": [
              "            feature       coef\n",
              "0     Sales_avg_M_2   0.070005\n",
              "1     Sales_avg_M_3  -0.473259\n",
              "2     Sales_avg_M_4  -0.305184\n",
              "3     Sales_avg_M_5  -0.489403\n",
              "4   Sales_count_M_2  72.004587\n",
              "5   Sales_count_M_3  16.722696\n",
              "6   Sales_count_M_4 -62.095584\n",
              "7   Sales_count_M_5 -52.022400\n",
              "8     Sales_sum_M_2   0.172087\n",
              "9     Sales_sum_M_3   0.435263\n",
              "10    Sales_sum_M_4   0.310449\n",
              "11    Sales_sum_M_5   0.858419"
            ]
          },
          "execution_count": 72,
          "metadata": {},
          "output_type": "execute_result"
        }
      ],
      "source": [
        "coef"
      ]
    },
    {
      "cell_type": "markdown",
      "metadata": {
        "id": "C8T_LKFJh0w_"
      },
      "source": [
        "## Evaluate the Regression Model performance"
      ]
    },
    {
      "cell_type": "code",
      "execution_count": 73,
      "metadata": {
        "id": "u3Hkii-_h0w_"
      },
      "outputs": [],
      "source": [
        "train_preds = reg_fit.predict(x_train)\n",
        "test_preds = reg_fit.predict(x_test)"
      ]
    },
    {
      "cell_type": "code",
      "execution_count": 74,
      "metadata": {
        "id": "E8kCJtyKh0w_"
      },
      "outputs": [],
      "source": [
        "from sklearn.metrics import r2_score, median_absolute_error"
      ]
    },
    {
      "cell_type": "code",
      "execution_count": 75,
      "metadata": {
        "id": "vjZ1bbZ8h0xA",
        "outputId": "eed6460c-9412-423b-c3b0-f5f1aff85dd0"
      },
      "outputs": [
        {
          "name": "stdout",
          "output_type": "stream",
          "text": [
            "In-Sample R-Squared: 0.8583\n",
            "Out-of-Sample R-Squared: 0.1795\n"
          ]
        }
      ],
      "source": [
        "print('In-Sample R-Squared: %0.4f' % r2_score(y_true=y_train, y_pred=train_preds))\n",
        "print('Out-of-Sample R-Squared: %0.4f' % r2_score(y_true=y_test, y_pred=test_preds))\n"
      ]
    },
    {
      "cell_type": "code",
      "execution_count": 76,
      "metadata": {
        "id": "lYflzZMfh0xA",
        "outputId": "b831b827-bfa7-4eef-ea45-b0fa5f4477e6"
      },
      "outputs": [
        {
          "name": "stdout",
          "output_type": "stream",
          "text": [
            "In-Sample MSE: 189.4326\n",
            "Out-of-Sample MSE: 187.5902\n"
          ]
        }
      ],
      "source": [
        "print('In-Sample MSE: %0.4f' % median_absolute_error(y_true=y_train, y_pred=train_preds))\n",
        "print('Out-of-Sample MSE: %0.4f' % median_absolute_error(y_true=y_test, y_pred=test_preds))"
      ]
    },
    {
      "cell_type": "code",
      "execution_count": 77,
      "metadata": {
        "id": "L2f12YLZh0xA",
        "outputId": "db92e2ad-b628-46e8-c3c2-77e4fe10dcd0"
      },
      "outputs": [
        {
          "data": {
            "image/png": "[encoded data removed]",
            "text/plain": [
              "<Figure size 432x288 with 1 Axes>"
            ]
          },
          "metadata": {
            "needs_background": "light"
          },
          "output_type": "display_data"
        }
      ],
      "source": [
        "# scatter plot of predicted versus actual.\n",
        "plt.scatter(y_test, test_preds)\n",
        "plt.plot([0, max(y_test)], [0, max(test_preds)], color='gray', lw=1, linestyle='--')\n",
        "\n",
        "plt.xlabel('actual')\n",
        "plt.ylabel('predicted')\n",
        "plt.title('Out-of-Sample Actual vs. Predicted')\n",
        "plt.grid()\n",
        "\n",
        "plt.show()"
      ]
    },
    {
      "cell_type": "markdown",
      "metadata": {
        "id": "UxU1OrM-h0xA"
      },
      "source": [
        "From the analysis performed above, we can see that:\n",
        "\n",
        "the product analysis we see: More products beiing sold neeceessarily doesnt mean more revenue, there is seasonality involved when considering products meaninf we need to stock products accordingly to ensire that we get the maximum out of the space in our inventory.\n",
        "\n",
        "\n",
        "From the customer analytics we see:\n",
        "\n",
        "More customers equals more revenue, we need to make sure that we have products that bring in customers so that they can purchase other items as well. we will need to identify a balance to maximize the profits.\n"
      ]
    }
  ],
  "metadata": {
    "colab": {
      "name": "GroupAssignment_4.ipynb",
      "provenance": []
    },
    "interpreter": {
      "hash": "b150984740fdf7a72966a4799adcabc4c74de8e98c33bd097cc544a8aaf6dd26"
    },
    "kernelspec": {
      "display_name": "Python 3.8.12 ('mlp')",
      "language": "python",
      "name": "python3"
    },
    "language_info": {
      "codemirror_mode": {
        "name": "ipython",
        "version": 3
      },
      "file_extension": ".py",
      "mimetype": "text/x-python",
      "name": "python",
      "nbconvert_exporter": "python",
      "pygments_lexer": "ipython3",
      "version": "3.8.12"
    }
  },
  "nbformat": 4,
  "nbformat_minor": 0
}
